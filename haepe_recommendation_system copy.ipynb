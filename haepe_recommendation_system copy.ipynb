{
  "cells": [
    {
      "cell_type": "markdown",
      "metadata": {
        "colab_type": "text",
        "id": "view-in-github"
      },
      "source": [
        "<a href=\"https://colab.research.google.com/github/guteng083/Haepe-Recommendation-System/blob/main/haepe_recommendation_system.ipynb\" target=\"_parent\"><img src=\"https://colab.research.google.com/assets/colab-badge.svg\" alt=\"Open In Colab\"/></a>"
      ]
    },
    {
      "cell_type": "markdown",
      "metadata": {
        "id": "9Y29lRcaZDIT"
      },
      "source": [
        "# Import Library"
      ]
    },
    {
      "cell_type": "code",
      "execution_count": 76,
      "metadata": {
        "id": "bqXPcyKSB_0N"
      },
      "outputs": [],
      "source": [
        "import pandas as pd\n",
        "import numpy as np\n",
        "import tensorflow as tf\n",
        "from tensorflow import keras\n",
        "import matplotlib.pyplot as plt\n",
        "%matplotlib inline\n",
        "from sklearn.preprocessing import LabelEncoder\n",
        "import pathlib"
      ]
    },
    {
      "cell_type": "markdown",
      "metadata": {
        "id": "B9BdseIDZJf_"
      },
      "source": [
        "# Load Data"
      ]
    },
    {
      "cell_type": "code",
      "execution_count": 77,
      "metadata": {
        "colab": {
          "base_uri": "https://localhost:8080/",
          "height": 641
        },
        "id": "G3ZtuV56H2bw",
        "outputId": "b74211cb-665f-4384-c038-305c5b846586"
      },
      "outputs": [
        {
          "data": {
            "text/html": [
              "<div>\n",
              "<style scoped>\n",
              "    .dataframe tbody tr th:only-of-type {\n",
              "        vertical-align: middle;\n",
              "    }\n",
              "\n",
              "    .dataframe tbody tr th {\n",
              "        vertical-align: top;\n",
              "    }\n",
              "\n",
              "    .dataframe thead th {\n",
              "        text-align: right;\n",
              "    }\n",
              "</style>\n",
              "<table border=\"1\" class=\"dataframe\">\n",
              "  <thead>\n",
              "    <tr style=\"text-align: right;\">\n",
              "      <th></th>\n",
              "      <th>Timestamp</th>\n",
              "      <th>Peran</th>\n",
              "      <th>Umur</th>\n",
              "      <th>Minat</th>\n",
              "      <th>Minat1</th>\n",
              "      <th>Minat2</th>\n",
              "      <th>Keahlian</th>\n",
              "      <th>Keahlian1</th>\n",
              "      <th>Aktivitas</th>\n",
              "    </tr>\n",
              "  </thead>\n",
              "  <tbody>\n",
              "    <tr>\n",
              "      <th>0</th>\n",
              "      <td>21/05/2022 12:39:46</td>\n",
              "      <td>Anak</td>\n",
              "      <td>21-55</td>\n",
              "      <td>Alam</td>\n",
              "      <td>Hiburan</td>\n",
              "      <td>Animasi</td>\n",
              "      <td>Masak</td>\n",
              "      <td>Manajemen</td>\n",
              "      <td>Membersihkan Rumah</td>\n",
              "    </tr>\n",
              "    <tr>\n",
              "      <th>1</th>\n",
              "      <td>21/05/2022 12:44:19</td>\n",
              "      <td>Ayah</td>\n",
              "      <td>21-55</td>\n",
              "      <td>Makanan</td>\n",
              "      <td>Olahraga</td>\n",
              "      <td>Binatang</td>\n",
              "      <td>Swakarya/DIY</td>\n",
              "      <td>Berkebun</td>\n",
              "      <td>Membersihkan Rumah</td>\n",
              "    </tr>\n",
              "    <tr>\n",
              "      <th>2</th>\n",
              "      <td>21/05/2022 12:46:16</td>\n",
              "      <td>Anak</td>\n",
              "      <td>15&lt;</td>\n",
              "      <td>Makanan</td>\n",
              "      <td>Animasi</td>\n",
              "      <td>Binatang</td>\n",
              "      <td>Swakarya/DIY</td>\n",
              "      <td>Sosialisasi</td>\n",
              "      <td>Belanja Kebutuhan</td>\n",
              "    </tr>\n",
              "    <tr>\n",
              "      <th>3</th>\n",
              "      <td>21/05/2022 12:49:24</td>\n",
              "      <td>Ibu</td>\n",
              "      <td>21-55</td>\n",
              "      <td>Makanan</td>\n",
              "      <td>Olahraga</td>\n",
              "      <td>Hiburan</td>\n",
              "      <td>Masak</td>\n",
              "      <td>Sosialisasi</td>\n",
              "      <td>Memasak</td>\n",
              "    </tr>\n",
              "    <tr>\n",
              "      <th>4</th>\n",
              "      <td>21/05/2022 13:03:39</td>\n",
              "      <td>Anak</td>\n",
              "      <td>15-20</td>\n",
              "      <td>Makanan</td>\n",
              "      <td>Hiburan</td>\n",
              "      <td>Keuangan</td>\n",
              "      <td>Masak</td>\n",
              "      <td>NaN</td>\n",
              "      <td>Membersihkan Rumah</td>\n",
              "    </tr>\n",
              "    <tr>\n",
              "      <th>...</th>\n",
              "      <td>...</td>\n",
              "      <td>...</td>\n",
              "      <td>...</td>\n",
              "      <td>...</td>\n",
              "      <td>...</td>\n",
              "      <td>...</td>\n",
              "      <td>...</td>\n",
              "      <td>...</td>\n",
              "      <td>...</td>\n",
              "    </tr>\n",
              "    <tr>\n",
              "      <th>282</th>\n",
              "      <td>25/05/2022 7:31:20</td>\n",
              "      <td>Anak</td>\n",
              "      <td>15&lt;</td>\n",
              "      <td>Olahraga</td>\n",
              "      <td>Alam</td>\n",
              "      <td>Binatang</td>\n",
              "      <td>Berkebun</td>\n",
              "      <td>NaN</td>\n",
              "      <td>Mencuci Piring</td>\n",
              "    </tr>\n",
              "    <tr>\n",
              "      <th>283</th>\n",
              "      <td>25/05/2022 19:23:51</td>\n",
              "      <td>Anak</td>\n",
              "      <td>21-55</td>\n",
              "      <td>Makanan</td>\n",
              "      <td>Hiburan</td>\n",
              "      <td>Edukasi</td>\n",
              "      <td>Sosialisasi</td>\n",
              "      <td>NaN</td>\n",
              "      <td>Membersihkan Rumah</td>\n",
              "    </tr>\n",
              "    <tr>\n",
              "      <th>284</th>\n",
              "      <td>25/05/2022 19:28:45</td>\n",
              "      <td>Ibu</td>\n",
              "      <td>21-55</td>\n",
              "      <td>Makanan</td>\n",
              "      <td>Hiburan</td>\n",
              "      <td>Keuangan</td>\n",
              "      <td>Masak</td>\n",
              "      <td>Berkebun</td>\n",
              "      <td>Memasak</td>\n",
              "    </tr>\n",
              "    <tr>\n",
              "      <th>285</th>\n",
              "      <td>25/05/2022 19:29:51</td>\n",
              "      <td>Ayah</td>\n",
              "      <td>21-55</td>\n",
              "      <td>Teknologi</td>\n",
              "      <td>Hiburan</td>\n",
              "      <td>Edukasi</td>\n",
              "      <td>Otomotif</td>\n",
              "      <td>Kelistrikan</td>\n",
              "      <td>Memperbaiki Rumah/Kelistrikan/Perabotan</td>\n",
              "    </tr>\n",
              "    <tr>\n",
              "      <th>286</th>\n",
              "      <td>26/05/2022 17:43:45</td>\n",
              "      <td>Anak</td>\n",
              "      <td>15&lt;</td>\n",
              "      <td>Makanan</td>\n",
              "      <td>Teknologi</td>\n",
              "      <td>Hiburan</td>\n",
              "      <td>Masak</td>\n",
              "      <td>Manajemen</td>\n",
              "      <td>Memasak</td>\n",
              "    </tr>\n",
              "  </tbody>\n",
              "</table>\n",
              "<p>287 rows × 9 columns</p>\n",
              "</div>"
            ],
            "text/plain": [
              "               Timestamp Peran   Umur      Minat     Minat1    Minat2  \\\n",
              "0    21/05/2022 12:39:46  Anak  21-55       Alam    Hiburan   Animasi   \n",
              "1    21/05/2022 12:44:19  Ayah  21-55    Makanan   Olahraga  Binatang   \n",
              "2    21/05/2022 12:46:16  Anak    15<    Makanan    Animasi  Binatang   \n",
              "3    21/05/2022 12:49:24   Ibu  21-55    Makanan   Olahraga   Hiburan   \n",
              "4    21/05/2022 13:03:39  Anak  15-20    Makanan    Hiburan  Keuangan   \n",
              "..                   ...   ...    ...        ...        ...       ...   \n",
              "282   25/05/2022 7:31:20  Anak    15<   Olahraga       Alam  Binatang   \n",
              "283  25/05/2022 19:23:51  Anak  21-55    Makanan    Hiburan   Edukasi   \n",
              "284  25/05/2022 19:28:45   Ibu  21-55    Makanan    Hiburan  Keuangan   \n",
              "285  25/05/2022 19:29:51  Ayah  21-55  Teknologi    Hiburan   Edukasi   \n",
              "286  26/05/2022 17:43:45  Anak    15<    Makanan  Teknologi   Hiburan   \n",
              "\n",
              "         Keahlian    Keahlian1                                Aktivitas  \n",
              "0           Masak    Manajemen                       Membersihkan Rumah  \n",
              "1    Swakarya/DIY     Berkebun                       Membersihkan Rumah  \n",
              "2    Swakarya/DIY  Sosialisasi                        Belanja Kebutuhan  \n",
              "3           Masak  Sosialisasi                                  Memasak  \n",
              "4           Masak          NaN                       Membersihkan Rumah  \n",
              "..            ...          ...                                      ...  \n",
              "282      Berkebun          NaN                           Mencuci Piring  \n",
              "283   Sosialisasi          NaN                       Membersihkan Rumah  \n",
              "284         Masak     Berkebun                                  Memasak  \n",
              "285      Otomotif  Kelistrikan  Memperbaiki Rumah/Kelistrikan/Perabotan  \n",
              "286         Masak    Manajemen                                  Memasak  \n",
              "\n",
              "[287 rows x 9 columns]"
            ]
          },
          "execution_count": 77,
          "metadata": {},
          "output_type": "execute_result"
        }
      ],
      "source": [
        "data = pd.read_csv('cemara_dataset.csv')\n",
        "data"
      ]
    },
    {
      "cell_type": "markdown",
      "metadata": {
        "id": "HwoX_EwLcaWT"
      },
      "source": [
        "# Preprocessing Data"
      ]
    },
    {
      "cell_type": "code",
      "execution_count": 78,
      "metadata": {
        "id": "bB983rDteGDm"
      },
      "outputs": [],
      "source": [
        "data = data.drop(['Timestamp'], axis=1)"
      ]
    },
    {
      "cell_type": "code",
      "execution_count": 79,
      "metadata": {
        "colab": {
          "base_uri": "https://localhost:8080/"
        },
        "id": "VR4atq7afOMX",
        "outputId": "a89ed1f9-1ce5-454d-a7f6-1cb4f796345b"
      },
      "outputs": [
        {
          "name": "stdout",
          "output_type": "stream",
          "text": [
            "<class 'pandas.core.frame.DataFrame'>\n",
            "RangeIndex: 287 entries, 0 to 286\n",
            "Data columns (total 8 columns):\n",
            " #   Column     Non-Null Count  Dtype \n",
            "---  ------     --------------  ----- \n",
            " 0   Peran      287 non-null    object\n",
            " 1   Umur       287 non-null    object\n",
            " 2   Minat      287 non-null    object\n",
            " 3   Minat1     287 non-null    object\n",
            " 4   Minat2     287 non-null    object\n",
            " 5   Keahlian   287 non-null    object\n",
            " 6   Keahlian1  222 non-null    object\n",
            " 7   Aktivitas  287 non-null    object\n",
            "dtypes: object(8)\n",
            "memory usage: 18.1+ KB\n"
          ]
        }
      ],
      "source": [
        "data.info()"
      ]
    },
    {
      "cell_type": "code",
      "execution_count": 80,
      "metadata": {
        "colab": {
          "base_uri": "https://localhost:8080/"
        },
        "id": "C9xIFmVVfqlE",
        "outputId": "84fb3a1b-dc45-4d16-a53b-bdd34399a076"
      },
      "outputs": [
        {
          "data": {
            "text/plain": [
              "Peran         0\n",
              "Umur          0\n",
              "Minat         0\n",
              "Minat1        0\n",
              "Minat2        0\n",
              "Keahlian      0\n",
              "Keahlian1    65\n",
              "Aktivitas     0\n",
              "dtype: int64"
            ]
          },
          "execution_count": 80,
          "metadata": {},
          "output_type": "execute_result"
        }
      ],
      "source": [
        "data.isnull().sum()"
      ]
    },
    {
      "cell_type": "code",
      "execution_count": 98,
      "metadata": {
        "colab": {
          "base_uri": "https://localhost:8080/",
          "height": 206
        },
        "id": "xOR5E8wfQM9e",
        "outputId": "504b2191-4e8a-439c-c874-33211857f340"
      },
      "outputs": [
        {
          "name": "stdout",
          "output_type": "stream",
          "text": [
            "<class 'pandas.core.frame.DataFrame'>\n",
            "RangeIndex: 287 entries, 0 to 286\n",
            "Data columns (total 8 columns):\n",
            " #   Column     Non-Null Count  Dtype \n",
            "---  ------     --------------  ----- \n",
            " 0   Peran      287 non-null    object\n",
            " 1   Umur       287 non-null    object\n",
            " 2   Minat      287 non-null    object\n",
            " 3   Minat1     287 non-null    object\n",
            " 4   Minat2     287 non-null    object\n",
            " 5   Keahlian   287 non-null    object\n",
            " 6   Keahlian1  287 non-null    object\n",
            " 7   Aktivitas  287 non-null    object\n",
            "dtypes: object(8)\n",
            "memory usage: 18.1+ KB\n"
          ]
        }
      ],
      "source": [
        "#Ganti data yang hilang dengan data yang paling sering\n",
        "data = data.fillna(data.mode().iloc[0])\n",
        "data.info()"
      ]
    },
    {
      "cell_type": "code",
      "execution_count": 82,
      "metadata": {
        "colab": {
          "base_uri": "https://localhost:8080/"
        },
        "id": "cubkEdtKQ-K0",
        "outputId": "b13573b3-3c79-4ba8-d19d-312baa714385"
      },
      "outputs": [
        {
          "data": {
            "text/plain": [
              "Peran        0\n",
              "Umur         0\n",
              "Minat        0\n",
              "Minat1       0\n",
              "Minat2       0\n",
              "Keahlian     0\n",
              "Keahlian1    0\n",
              "Aktivitas    0\n",
              "dtype: int64"
            ]
          },
          "execution_count": 82,
          "metadata": {},
          "output_type": "execute_result"
        }
      ],
      "source": [
        "data.isnull().sum()"
      ]
    },
    {
      "cell_type": "markdown",
      "metadata": {
        "id": "DwFgidb-cDN6"
      },
      "source": [
        "# Exploratory Data Analysis"
      ]
    },
    {
      "cell_type": "code",
      "execution_count": 83,
      "metadata": {
        "colab": {
          "base_uri": "https://localhost:8080/"
        },
        "id": "MqfYWOpoVeVf",
        "outputId": "538a2f4f-e8d6-4030-aee4-0ec66980d2b7"
      },
      "outputs": [
        {
          "data": {
            "text/plain": [
              "Peran        3\n",
              "Umur         4\n",
              "Minat        8\n",
              "Minat1       9\n",
              "Minat2       9\n",
              "Keahlian     7\n",
              "Keahlian1    6\n",
              "Aktivitas    8\n",
              "dtype: int64"
            ]
          },
          "execution_count": 83,
          "metadata": {},
          "output_type": "execute_result"
        }
      ],
      "source": [
        "data.nunique()"
      ]
    },
    {
      "cell_type": "code",
      "execution_count": 84,
      "metadata": {
        "colab": {
          "base_uri": "https://localhost:8080/",
          "height": 367
        },
        "id": "vt-ON636VsbT",
        "outputId": "ef0d9535-94b7-42a9-efac-a18a94685d19"
      },
      "outputs": [
        {
          "name": "stdout",
          "output_type": "stream",
          "text": [
            "Anak    105\n",
            "Ibu      98\n",
            "Ayah     84\n",
            "Name: Peran, dtype: int64\n"
          ]
        },
        {
          "data": {
            "text/plain": [
              "<AxesSubplot:>"
            ]
          },
          "execution_count": 84,
          "metadata": {},
          "output_type": "execute_result"
        },
        {
          "data": {
            "image/png": "[encoded data removed]",
            "text/plain": [
              "<Figure size 432x288 with 1 Axes>"
            ]
          },
          "metadata": {
            "needs_background": "light"
          },
          "output_type": "display_data"
        }
      ],
      "source": [
        "cat_value = data['Peran'].value_counts()\n",
        "print(cat_value)\n",
        "cat_value.plot(kind='bar')"
      ]
    },
    {
      "cell_type": "code",
      "execution_count": 85,
      "metadata": {
        "colab": {
          "base_uri": "https://localhost:8080/",
          "height": 388
        },
        "id": "9Dbkf1g-VwrJ",
        "outputId": "eeb75b2f-743c-4679-f9d6-9e1d6b1a033c"
      },
      "outputs": [
        {
          "name": "stdout",
          "output_type": "stream",
          "text": [
            "21-55    184\n",
            "15-20     48\n",
            ">55       29\n",
            "15<       26\n",
            "Name: Umur, dtype: int64\n"
          ]
        },
        {
          "data": {
            "text/plain": [
              "<AxesSubplot:>"
            ]
          },
          "execution_count": 85,
          "metadata": {},
          "output_type": "execute_result"
        },
        {
          "data": {
            "image/png": "[encoded data removed]",
            "text/plain": [
              "<Figure size 432x288 with 1 Axes>"
            ]
          },
          "metadata": {
            "needs_background": "light"
          },
          "output_type": "display_data"
        }
      ],
      "source": [
        "cat_value = data['Umur'].value_counts()\n",
        "print(cat_value)\n",
        "cat_value.plot(kind='bar')"
      ]
    },
    {
      "cell_type": "code",
      "execution_count": 86,
      "metadata": {
        "colab": {
          "base_uri": "https://localhost:8080/",
          "height": 479
        },
        "id": "4mo1E9HMVxLe",
        "outputId": "36fe37b1-02d9-4802-a79b-3629595bf30e"
      },
      "outputs": [
        {
          "name": "stdout",
          "output_type": "stream",
          "text": [
            "Makanan      149\n",
            "Olahraga      59\n",
            "Alam          28\n",
            "Hiburan       23\n",
            "Teknologi     20\n",
            "Edukasi        6\n",
            "Keuangan       1\n",
            "Binatang       1\n",
            "Name: Minat, dtype: int64\n"
          ]
        },
        {
          "data": {
            "text/plain": [
              "<AxesSubplot:>"
            ]
          },
          "execution_count": 86,
          "metadata": {},
          "output_type": "execute_result"
        },
        {
          "data": {
            "image/png": "[encoded data removed]",
            "text/plain": [
              "<Figure size 432x288 with 1 Axes>"
            ]
          },
          "metadata": {
            "needs_background": "light"
          },
          "output_type": "display_data"
        }
      ],
      "source": [
        "cat_value = data['Minat'].value_counts()\n",
        "print(cat_value)\n",
        "cat_value.plot(kind='bar')"
      ]
    },
    {
      "cell_type": "code",
      "execution_count": 87,
      "metadata": {
        "colab": {
          "base_uri": "https://localhost:8080/",
          "height": 498
        },
        "id": "iz3g1YPeVx0u",
        "outputId": "0817ca00-e7d6-4055-ea75-a77b6820a26a"
      },
      "outputs": [
        {
          "name": "stdout",
          "output_type": "stream",
          "text": [
            "Hiburan      96\n",
            "Alam         41\n",
            "Edukasi      40\n",
            "Olahraga     36\n",
            "Keuangan     29\n",
            "Teknologi    29\n",
            "Animasi       6\n",
            "Binatang      6\n",
            "Literatur     4\n",
            "Name: Minat1, dtype: int64\n"
          ]
        },
        {
          "data": {
            "text/plain": [
              "<AxesSubplot:>"
            ]
          },
          "execution_count": 87,
          "metadata": {},
          "output_type": "execute_result"
        },
        {
          "data": {
            "image/png": "[encoded data removed]",
            "text/plain": [
              "<Figure size 432x288 with 1 Axes>"
            ]
          },
          "metadata": {
            "needs_background": "light"
          },
          "output_type": "display_data"
        }
      ],
      "source": [
        "cat_value = data['Minat1'].value_counts()\n",
        "print(cat_value)\n",
        "cat_value.plot(kind='bar')"
      ]
    },
    {
      "cell_type": "code",
      "execution_count": 88,
      "metadata": {
        "colab": {
          "base_uri": "https://localhost:8080/",
          "height": 499
        },
        "id": "15R-uuxlVxr5",
        "outputId": "994ac87c-935e-4934-d447-95b7acef3bf3"
      },
      "outputs": [
        {
          "name": "stdout",
          "output_type": "stream",
          "text": [
            "Kesehatan    85\n",
            "Keuangan     55\n",
            "Hiburan      43\n",
            "Edukasi      27\n",
            "Binatang     25\n",
            "Animasi      23\n",
            "Teknologi    13\n",
            "Literatur    13\n",
            "Alam          3\n",
            "Name: Minat2, dtype: int64\n"
          ]
        },
        {
          "data": {
            "text/plain": [
              "<AxesSubplot:>"
            ]
          },
          "execution_count": 88,
          "metadata": {},
          "output_type": "execute_result"
        },
        {
          "data": {
            "image/png": "[encoded data removed]",
            "text/plain": [
              "<Figure size 432x288 with 1 Axes>"
            ]
          },
          "metadata": {
            "needs_background": "light"
          },
          "output_type": "display_data"
        }
      ],
      "source": [
        "cat_value = data['Minat2'].value_counts()\n",
        "print(cat_value)\n",
        "cat_value.plot(kind='bar')"
      ]
    },
    {
      "cell_type": "code",
      "execution_count": 89,
      "metadata": {
        "colab": {
          "base_uri": "https://localhost:8080/",
          "height": 480
        },
        "id": "CxdSY53rVxip",
        "outputId": "7a9d8f3d-1a9b-4d79-f5f4-cbb202e2da1d"
      },
      "outputs": [
        {
          "name": "stdout",
          "output_type": "stream",
          "text": [
            "Masak           142\n",
            "Sosialisasi      43\n",
            "Swakarya/DIY     39\n",
            "Otomotif         21\n",
            "Manajemen        19\n",
            "Berkebun         15\n",
            "Kelistrikan       8\n",
            "Name: Keahlian, dtype: int64\n"
          ]
        },
        {
          "data": {
            "text/plain": [
              "<AxesSubplot:>"
            ]
          },
          "execution_count": 89,
          "metadata": {},
          "output_type": "execute_result"
        },
        {
          "data": {
            "image/png": "[encoded data removed]",
            "text/plain": [
              "<Figure size 432x288 with 1 Axes>"
            ]
          },
          "metadata": {
            "needs_background": "light"
          },
          "output_type": "display_data"
        }
      ],
      "source": [
        "cat_value = data['Keahlian'].value_counts()\n",
        "print(cat_value)\n",
        "cat_value.plot(kind='bar')"
      ]
    },
    {
      "cell_type": "code",
      "execution_count": 90,
      "metadata": {
        "colab": {
          "base_uri": "https://localhost:8080/",
          "height": 463
        },
        "id": "QMcmj6yZV2i7",
        "outputId": "f6aa3bac-55b9-4a33-8858-580eca27fcd6"
      },
      "outputs": [
        {
          "name": "stdout",
          "output_type": "stream",
          "text": [
            "Berkebun        124\n",
            "Manajemen        52\n",
            "Sosialisasi      47\n",
            "Swakarya/DIY     26\n",
            "Otomotif         20\n",
            "Kelistrikan      18\n",
            "Name: Keahlian1, dtype: int64\n"
          ]
        },
        {
          "data": {
            "text/plain": [
              "<AxesSubplot:>"
            ]
          },
          "execution_count": 90,
          "metadata": {},
          "output_type": "execute_result"
        },
        {
          "data": {
            "image/png": "[encoded data removed]",
            "text/plain": [
              "<Figure size 432x288 with 1 Axes>"
            ]
          },
          "metadata": {
            "needs_background": "light"
          },
          "output_type": "display_data"
        }
      ],
      "source": [
        "cat_value = data['Keahlian1'].value_counts()\n",
        "print(cat_value)\n",
        "cat_value.plot(kind='bar')"
      ]
    },
    {
      "cell_type": "code",
      "execution_count": 91,
      "metadata": {
        "id": "uUf_hLG0ae-l"
      },
      "outputs": [],
      "source": [
        "x = data.drop(['Aktivitas'], axis=1)\n",
        "y = data['Aktivitas']\n",
        "\n",
        "le = LabelEncoder()\n",
        "x = pd.get_dummies(x)\n",
        "y = le.fit_transform(y)\n",
        "\n"
      ]
    },
    {
      "cell_type": "code",
      "execution_count": 92,
      "metadata": {
        "id": "JIMnerM-GHww"
      },
      "outputs": [],
      "source": [
        "from sklearn.model_selection import train_test_split\n",
        "\n",
        "x_train, x_test, y_train, y_test = train_test_split(x, y, test_size=0.2, random_state=42)"
      ]
    },
    {
      "cell_type": "markdown",
      "metadata": {
        "id": "XRIbvZ0Bb_PO"
      },
      "source": [
        "# Create Model"
      ]
    },
    {
      "cell_type": "code",
      "execution_count": 93,
      "metadata": {
        "id": "8sEpgBmEb91C"
      },
      "outputs": [],
      "source": [
        "# input = keras.Input(shape=(46,))\n",
        "# dense1 = keras.layers.Dense(46, activation='relu')(input)\n",
        "# dense2 = keras.layers.Dense(100, activation='relu')(dense1)\n",
        "# dense3 = keras.layers.Dense(100, activation='relu')(dense2)\n",
        "# dense4 = keras.layers.Dense(200, activation='relu')(dense3)\n",
        "# output = keras.layers.Dense(1)(dense4)\n",
        "\n",
        "# model = keras.Model(inputs=input, outputs=output)\n",
        "# model.compile(optimizer='adam', loss='mean_squared_error', metrics=['accuracy'])"
      ]
    },
    {
      "cell_type": "code",
      "execution_count": 96,
      "metadata": {},
      "outputs": [
        {
          "name": "stdout",
          "output_type": "stream",
          "text": [
            "Epoch 1/50\n"
          ]
        },
        {
          "ename": "TypeError",
          "evalue": "in user code:\n\n    File \"c:\\laragon\\bin\\python\\python-3.10.4\\lib\\site-packages\\keras\\engine\\training.py\", line 1051, in train_function  *\n        return step_function(self, iterator)\n    File \"c:\\laragon\\bin\\python\\python-3.10.4\\lib\\site-packages\\keras\\engine\\training.py\", line 1040, in step_function  **\n        outputs = model.distribute_strategy.run(run_step, args=(data,))\n    File \"c:\\laragon\\bin\\python\\python-3.10.4\\lib\\site-packages\\keras\\engine\\training.py\", line 1030, in run_step  **\n        outputs = model.train_step(data)\n    File \"c:\\laragon\\bin\\python\\python-3.10.4\\lib\\site-packages\\keras\\engine\\training.py\", line 890, in train_step\n        loss = self.compute_loss(x, y, y_pred, sample_weight)\n    File \"c:\\laragon\\bin\\python\\python-3.10.4\\lib\\site-packages\\keras\\engine\\training.py\", line 948, in compute_loss\n        return self.compiled_loss(\n    File \"c:\\laragon\\bin\\python\\python-3.10.4\\lib\\site-packages\\keras\\engine\\compile_utils.py\", line 201, in __call__\n        loss_value = loss_obj(y_t, y_p, sample_weight=sw)\n    File \"c:\\laragon\\bin\\python\\python-3.10.4\\lib\\site-packages\\keras\\losses.py\", line 139, in __call__\n        losses = call_fn(y_true, y_pred)\n    File \"c:\\laragon\\bin\\python\\python-3.10.4\\lib\\site-packages\\keras\\losses.py\", line 243, in call  **\n        return ag_fn(y_true, y_pred, **self._fn_kwargs)\n    File \"c:\\laragon\\bin\\python\\python-3.10.4\\lib\\site-packages\\keras\\losses.py\", line 1455, in mean_absolute_error\n        return backend.mean(tf.abs(y_pred - y_true), axis=-1)\n\n    TypeError: Value passed to parameter 'x' has DataType uint8 not in list of allowed values: bfloat16, float16, float32, float64, int8, int16, int32, int64\n",
          "output_type": "error",
          "traceback": [
            "\u001b[1;31m---------------------------------------------------------------------------\u001b[0m",
            "\u001b[1;31mTypeError\u001b[0m                                 Traceback (most recent call last)",
            "\u001b[1;32mc:\\laragon\\www\\Haepe-Recommendation-System\\haepe_recommendation_system copy.ipynb Cell 25'\u001b[0m in \u001b[0;36m<cell line: 4>\u001b[1;34m()\u001b[0m\n\u001b[0;32m      <a href='vscode-notebook-cell:/c%3A/laragon/www/Haepe-Recommendation-System/haepe_recommendation_system%20copy.ipynb#ch0000034?line=1'>2</a>\u001b[0m \u001b[39m# Compile model\u001b[39;00m\n\u001b[0;32m      <a href='vscode-notebook-cell:/c%3A/laragon/www/Haepe-Recommendation-System/haepe_recommendation_system%20copy.ipynb#ch0000034?line=2'>3</a>\u001b[0m model\u001b[39m.\u001b[39mcompile(loss\u001b[39m=\u001b[39m\u001b[39m'\u001b[39m\u001b[39mmae\u001b[39m\u001b[39m'\u001b[39m, optimizer\u001b[39m=\u001b[39m\u001b[39m'\u001b[39m\u001b[39madam\u001b[39m\u001b[39m'\u001b[39m, metrics\u001b[39m=\u001b[39m[\u001b[39m'\u001b[39m\u001b[39mmae\u001b[39m\u001b[39m'\u001b[39m])\n\u001b[1;32m----> <a href='vscode-notebook-cell:/c%3A/laragon/www/Haepe-Recommendation-System/haepe_recommendation_system%20copy.ipynb#ch0000034?line=3'>4</a>\u001b[0m model\u001b[39m.\u001b[39;49mfit(x_train, y_train, validation_data\u001b[39m=\u001b[39;49m(x_test, y_test), epochs\u001b[39m=\u001b[39;49m\u001b[39m50\u001b[39;49m, batch_size\u001b[39m=\u001b[39;49m\u001b[39m64\u001b[39;49m, validation_split\u001b[39m=\u001b[39;49m\u001b[39m0.2\u001b[39;49m)\n",
            "File \u001b[1;32mc:\\laragon\\bin\\python\\python-3.10.4\\lib\\site-packages\\keras\\utils\\traceback_utils.py:67\u001b[0m, in \u001b[0;36mfilter_traceback.<locals>.error_handler\u001b[1;34m(*args, **kwargs)\u001b[0m\n\u001b[0;32m     <a href='file:///c%3A/laragon/bin/python/python-3.10.4/lib/site-packages/keras/utils/traceback_utils.py?line=64'>65</a>\u001b[0m \u001b[39mexcept\u001b[39;00m \u001b[39mException\u001b[39;00m \u001b[39mas\u001b[39;00m e:  \u001b[39m# pylint: disable=broad-except\u001b[39;00m\n\u001b[0;32m     <a href='file:///c%3A/laragon/bin/python/python-3.10.4/lib/site-packages/keras/utils/traceback_utils.py?line=65'>66</a>\u001b[0m   filtered_tb \u001b[39m=\u001b[39m _process_traceback_frames(e\u001b[39m.\u001b[39m__traceback__)\n\u001b[1;32m---> <a href='file:///c%3A/laragon/bin/python/python-3.10.4/lib/site-packages/keras/utils/traceback_utils.py?line=66'>67</a>\u001b[0m   \u001b[39mraise\u001b[39;00m e\u001b[39m.\u001b[39mwith_traceback(filtered_tb) \u001b[39mfrom\u001b[39;00m \u001b[39mNone\u001b[39m\n\u001b[0;32m     <a href='file:///c%3A/laragon/bin/python/python-3.10.4/lib/site-packages/keras/utils/traceback_utils.py?line=67'>68</a>\u001b[0m \u001b[39mfinally\u001b[39;00m:\n\u001b[0;32m     <a href='file:///c%3A/laragon/bin/python/python-3.10.4/lib/site-packages/keras/utils/traceback_utils.py?line=68'>69</a>\u001b[0m   \u001b[39mdel\u001b[39;00m filtered_tb\n",
            "File \u001b[1;32mC:\\Users\\RIZKIP~1\\AppData\\Local\\Temp\\__autograph_generated_fileff08p0rs.py:15\u001b[0m, in \u001b[0;36mouter_factory.<locals>.inner_factory.<locals>.tf__train_function\u001b[1;34m(iterator)\u001b[0m\n\u001b[0;32m     <a href='file:///c%3A/Users/RIZKIP~1/AppData/Local/Temp/__autograph_generated_fileff08p0rs.py?line=12'>13</a>\u001b[0m \u001b[39mtry\u001b[39;00m:\n\u001b[0;32m     <a href='file:///c%3A/Users/RIZKIP~1/AppData/Local/Temp/__autograph_generated_fileff08p0rs.py?line=13'>14</a>\u001b[0m     do_return \u001b[39m=\u001b[39m \u001b[39mTrue\u001b[39;00m\n\u001b[1;32m---> <a href='file:///c%3A/Users/RIZKIP~1/AppData/Local/Temp/__autograph_generated_fileff08p0rs.py?line=14'>15</a>\u001b[0m     retval_ \u001b[39m=\u001b[39m ag__\u001b[39m.\u001b[39mconverted_call(ag__\u001b[39m.\u001b[39mld(step_function), (ag__\u001b[39m.\u001b[39mld(\u001b[39mself\u001b[39m), ag__\u001b[39m.\u001b[39mld(iterator)), \u001b[39mNone\u001b[39;00m, fscope)\n\u001b[0;32m     <a href='file:///c%3A/Users/RIZKIP~1/AppData/Local/Temp/__autograph_generated_fileff08p0rs.py?line=15'>16</a>\u001b[0m \u001b[39mexcept\u001b[39;00m:\n\u001b[0;32m     <a href='file:///c%3A/Users/RIZKIP~1/AppData/Local/Temp/__autograph_generated_fileff08p0rs.py?line=16'>17</a>\u001b[0m     do_return \u001b[39m=\u001b[39m \u001b[39mFalse\u001b[39;00m\n",
            "\u001b[1;31mTypeError\u001b[0m: in user code:\n\n    File \"c:\\laragon\\bin\\python\\python-3.10.4\\lib\\site-packages\\keras\\engine\\training.py\", line 1051, in train_function  *\n        return step_function(self, iterator)\n    File \"c:\\laragon\\bin\\python\\python-3.10.4\\lib\\site-packages\\keras\\engine\\training.py\", line 1040, in step_function  **\n        outputs = model.distribute_strategy.run(run_step, args=(data,))\n    File \"c:\\laragon\\bin\\python\\python-3.10.4\\lib\\site-packages\\keras\\engine\\training.py\", line 1030, in run_step  **\n        outputs = model.train_step(data)\n    File \"c:\\laragon\\bin\\python\\python-3.10.4\\lib\\site-packages\\keras\\engine\\training.py\", line 890, in train_step\n        loss = self.compute_loss(x, y, y_pred, sample_weight)\n    File \"c:\\laragon\\bin\\python\\python-3.10.4\\lib\\site-packages\\keras\\engine\\training.py\", line 948, in compute_loss\n        return self.compiled_loss(\n    File \"c:\\laragon\\bin\\python\\python-3.10.4\\lib\\site-packages\\keras\\engine\\compile_utils.py\", line 201, in __call__\n        loss_value = loss_obj(y_t, y_p, sample_weight=sw)\n    File \"c:\\laragon\\bin\\python\\python-3.10.4\\lib\\site-packages\\keras\\losses.py\", line 139, in __call__\n        losses = call_fn(y_true, y_pred)\n    File \"c:\\laragon\\bin\\python\\python-3.10.4\\lib\\site-packages\\keras\\losses.py\", line 243, in call  **\n        return ag_fn(y_true, y_pred, **self._fn_kwargs)\n    File \"c:\\laragon\\bin\\python\\python-3.10.4\\lib\\site-packages\\keras\\losses.py\", line 1455, in mean_absolute_error\n        return backend.mean(tf.abs(y_pred - y_true), axis=-1)\n\n    TypeError: Value passed to parameter 'x' has DataType uint8 not in list of allowed values: bfloat16, float16, float32, float64, int8, int16, int32, int64\n"
          ]
        }
      ],
      "source": [
        "model = keras.Sequential()\n",
        "model.add(keras.layers.Dense(13, input_dim=13, kernel_initializer='normal', activation='relu'))\n",
        "model.add(keras.layers.Dense(1, kernel_initializer='normal'))\n",
        "# Compile model\n",
        "model.compile(loss='mae', optimizer='adam', metrics=['mae'])\n",
        "model.fit(x_train, y_train, validation_data=(x_test, y_test), epochs=50, batch_size=64, validation_split=0.2)"
      ]
    },
    {
      "cell_type": "code",
      "execution_count": null,
      "metadata": {
        "colab": {
          "base_uri": "https://localhost:8080/"
        },
        "id": "hprW68Rfckvp",
        "outputId": "fc8329f4-12f2-4dca-9b81-a3712fec26d1"
      },
      "outputs": [
        {
          "name": "stdout",
          "output_type": "stream",
          "text": [
            "Model: \"model\"\n",
            "_________________________________________________________________\n",
            " Layer (type)                Output Shape              Param #   \n",
            "=================================================================\n",
            " input_1 (InputLayer)        [(None, 46)]              0         \n",
            "                                                                 \n",
            " dense (Dense)               (None, 46)                2162      \n",
            "                                                                 \n",
            " dense_1 (Dense)             (None, 100)               4700      \n",
            "                                                                 \n",
            " dense_2 (Dense)             (None, 100)               10100     \n",
            "                                                                 \n",
            " dense_3 (Dense)             (None, 200)               20200     \n",
            "                                                                 \n",
            " dense_4 (Dense)             (None, 1)                 201       \n",
            "                                                                 \n",
            "=================================================================\n",
            "Total params: 37,363\n",
            "Trainable params: 37,363\n",
            "Non-trainable params: 0\n",
            "_________________________________________________________________\n"
          ]
        }
      ],
      "source": [
        "model.summary()"
      ]
    },
    {
      "cell_type": "markdown",
      "metadata": {
        "id": "pfW-S_xZcnP_"
      },
      "source": [
        "# Train Model"
      ]
    },
    {
      "cell_type": "code",
      "execution_count": null,
      "metadata": {
        "colab": {
          "base_uri": "https://localhost:8080/"
        },
        "id": "fM0xWHbVclU2",
        "outputId": "8b3ee536-ce8a-446b-8ad5-dce2abba336b"
      },
      "outputs": [
        {
          "name": "stdout",
          "output_type": "stream",
          "text": [
            "Epoch 1/50\n",
            "9/9 [==============================] - 0s 3ms/step - loss: 0.5642 - accuracy: 0.2829\n",
            "Epoch 2/50\n",
            "9/9 [==============================] - 0s 5ms/step - loss: 0.5391 - accuracy: 0.2752\n",
            "Epoch 3/50\n",
            "9/9 [==============================] - 0s 4ms/step - loss: 0.7748 - accuracy: 0.2403\n",
            "Epoch 4/50\n",
            "9/9 [==============================] - 0s 4ms/step - loss: 0.9020 - accuracy: 0.2519\n",
            "Epoch 5/50\n",
            "9/9 [==============================] - 0s 4ms/step - loss: 0.7149 - accuracy: 0.2519\n",
            "Epoch 6/50\n",
            "9/9 [==============================] - 0s 4ms/step - loss: 0.7793 - accuracy: 0.2713\n",
            "Epoch 7/50\n",
            "9/9 [==============================] - 0s 5ms/step - loss: 0.7341 - accuracy: 0.2636\n",
            "Epoch 8/50\n",
            "9/9 [==============================] - 0s 5ms/step - loss: 0.5608 - accuracy: 0.2636\n",
            "Epoch 9/50\n",
            "9/9 [==============================] - 0s 4ms/step - loss: 0.5534 - accuracy: 0.2752\n",
            "Epoch 10/50\n",
            "9/9 [==============================] - 0s 5ms/step - loss: 0.4984 - accuracy: 0.2829\n",
            "Epoch 11/50\n",
            "9/9 [==============================] - 0s 4ms/step - loss: 0.4793 - accuracy: 0.2829\n",
            "Epoch 12/50\n",
            "9/9 [==============================] - 0s 3ms/step - loss: 0.4686 - accuracy: 0.2868\n",
            "Epoch 13/50\n",
            "9/9 [==============================] - 0s 4ms/step - loss: 0.4496 - accuracy: 0.2868\n",
            "Epoch 14/50\n",
            "9/9 [==============================] - 0s 4ms/step - loss: 0.4634 - accuracy: 0.2829\n",
            "Epoch 15/50\n",
            "9/9 [==============================] - 0s 7ms/step - loss: 0.4490 - accuracy: 0.2868\n",
            "Epoch 16/50\n",
            "9/9 [==============================] - 0s 6ms/step - loss: 0.4460 - accuracy: 0.2868\n",
            "Epoch 17/50\n",
            "9/9 [==============================] - 0s 6ms/step - loss: 0.4937 - accuracy: 0.2713\n",
            "Epoch 18/50\n",
            "9/9 [==============================] - 0s 4ms/step - loss: 0.5255 - accuracy: 0.2829\n",
            "Epoch 19/50\n",
            "9/9 [==============================] - 0s 5ms/step - loss: 0.4963 - accuracy: 0.2829\n",
            "Epoch 20/50\n",
            "9/9 [==============================] - 0s 4ms/step - loss: 0.4666 - accuracy: 0.2829\n",
            "Epoch 21/50\n",
            "9/9 [==============================] - 0s 4ms/step - loss: 0.4562 - accuracy: 0.2868\n",
            "Epoch 22/50\n",
            "9/9 [==============================] - 0s 5ms/step - loss: 0.4564 - accuracy: 0.2868\n",
            "Epoch 23/50\n",
            "9/9 [==============================] - 0s 4ms/step - loss: 0.4887 - accuracy: 0.2829\n",
            "Epoch 24/50\n",
            "9/9 [==============================] - 0s 4ms/step - loss: 0.5369 - accuracy: 0.2868\n",
            "Epoch 25/50\n",
            "9/9 [==============================] - 0s 5ms/step - loss: 0.5484 - accuracy: 0.2791\n",
            "Epoch 26/50\n",
            "9/9 [==============================] - 0s 4ms/step - loss: 0.5733 - accuracy: 0.2829\n",
            "Epoch 27/50\n",
            "9/9 [==============================] - 0s 4ms/step - loss: 0.5306 - accuracy: 0.2868\n",
            "Epoch 28/50\n",
            "9/9 [==============================] - 0s 4ms/step - loss: 0.5294 - accuracy: 0.2868\n",
            "Epoch 29/50\n",
            "9/9 [==============================] - 0s 7ms/step - loss: 0.5193 - accuracy: 0.2868\n",
            "Epoch 30/50\n",
            "9/9 [==============================] - 0s 4ms/step - loss: 0.4811 - accuracy: 0.2868\n",
            "Epoch 31/50\n",
            "9/9 [==============================] - 0s 4ms/step - loss: 0.4705 - accuracy: 0.2868\n",
            "Epoch 32/50\n",
            "9/9 [==============================] - 0s 5ms/step - loss: 0.4512 - accuracy: 0.2868\n",
            "Epoch 33/50\n",
            "9/9 [==============================] - 0s 5ms/step - loss: 0.4537 - accuracy: 0.2868\n",
            "Epoch 34/50\n",
            "9/9 [==============================] - 0s 5ms/step - loss: 0.5205 - accuracy: 0.2868\n",
            "Epoch 35/50\n",
            "9/9 [==============================] - 0s 4ms/step - loss: 0.5605 - accuracy: 0.2674\n",
            "Epoch 36/50\n",
            "9/9 [==============================] - 0s 7ms/step - loss: 0.5551 - accuracy: 0.2868\n",
            "Epoch 37/50\n",
            "9/9 [==============================] - 0s 7ms/step - loss: 0.4792 - accuracy: 0.2868\n",
            "Epoch 38/50\n",
            "9/9 [==============================] - 0s 7ms/step - loss: 0.5075 - accuracy: 0.2829\n",
            "Epoch 39/50\n",
            "9/9 [==============================] - 0s 6ms/step - loss: 0.4818 - accuracy: 0.2829\n",
            "Epoch 40/50\n",
            "9/9 [==============================] - 0s 4ms/step - loss: 0.4770 - accuracy: 0.2829\n",
            "Epoch 41/50\n",
            "9/9 [==============================] - 0s 5ms/step - loss: 0.4704 - accuracy: 0.2907\n",
            "Epoch 42/50\n",
            "9/9 [==============================] - 0s 5ms/step - loss: 0.4500 - accuracy: 0.2868\n",
            "Epoch 43/50\n",
            "9/9 [==============================] - 0s 5ms/step - loss: 0.5039 - accuracy: 0.2791\n",
            "Epoch 44/50\n",
            "9/9 [==============================] - 0s 4ms/step - loss: 0.5999 - accuracy: 0.2403\n",
            "Epoch 45/50\n",
            "9/9 [==============================] - 0s 5ms/step - loss: 0.5714 - accuracy: 0.2791\n",
            "Epoch 46/50\n",
            "9/9 [==============================] - 0s 6ms/step - loss: 0.4627 - accuracy: 0.2907\n",
            "Epoch 47/50\n",
            "9/9 [==============================] - 0s 6ms/step - loss: 0.4630 - accuracy: 0.2829\n",
            "Epoch 48/50\n",
            "9/9 [==============================] - 0s 6ms/step - loss: 0.4517 - accuracy: 0.2829\n",
            "Epoch 49/50\n",
            "9/9 [==============================] - 0s 5ms/step - loss: 0.4415 - accuracy: 0.2868\n",
            "Epoch 50/50\n",
            "9/9 [==============================] - 0s 5ms/step - loss: 0.4549 - accuracy: 0.2868\n"
          ]
        }
      ],
      "source": [
        "history = model.fit(x_train, y_train, epochs=50, verbose=1)"
      ]
    },
    {
      "cell_type": "markdown",
      "metadata": {
        "id": "euV_uXIQc324"
      },
      "source": [
        "# Evaluate Model"
      ]
    },
    {
      "cell_type": "code",
      "execution_count": null,
      "metadata": {
        "colab": {
          "base_uri": "https://localhost:8080/",
          "height": 296
        },
        "id": "MsWephZWc1cU",
        "outputId": "f7acad25-81ae-40dd-ff3f-f2fd777d3f51"
      },
      "outputs": [
        {
          "data": {
            "text/plain": [
              "Text(0, 0.5, 'Training Error')"
            ]
          },
          "execution_count": 48,
          "metadata": {},
          "output_type": "execute_result"
        },
        {
          "data": {
            "image/png": "[encoded data removed]",
            "text/plain": [
              "<Figure size 432x288 with 1 Axes>"
            ]
          },
          "metadata": {
            "needs_background": "light"
          },
          "output_type": "display_data"
        }
      ],
      "source": [
        "plt.plot(history.history['loss'])\n",
        "plt.xlabel(\"Epochs\")\n",
        "plt.ylabel(\"Training Error\")"
      ]
    },
    {
      "cell_type": "code",
      "execution_count": null,
      "metadata": {
        "colab": {
          "base_uri": "https://localhost:8080/"
        },
        "id": "-pLQ2-jscAZQ",
        "outputId": "23bfdbcb-1a1c-4288-ac9d-16320d3a52f5"
      },
      "outputs": [
        {
          "name": "stdout",
          "output_type": "stream",
          "text": [
            "1/1 [==============================] - 0s 57ms/step - loss: 4.6072 - accuracy: 0.2414\n"
          ]
        },
        {
          "data": {
            "text/plain": [
              "[4.607223987579346, 0.24137930572032928]"
            ]
          },
          "execution_count": 49,
          "metadata": {},
          "output_type": "execute_result"
        }
      ],
      "source": [
        "model.evaluate(x_test, y_test)"
      ]
    },
    {
      "cell_type": "markdown",
      "metadata": {
        "id": "KcdkdxrpAQi1"
      },
      "source": [
        "# Model Save"
      ]
    },
    {
      "cell_type": "code",
      "execution_count": null,
      "metadata": {
        "id": "ZtFydO5pkmno"
      },
      "outputs": [],
      "source": [
        "model.save('haepe.h5')"
      ]
    },
    {
      "cell_type": "markdown",
      "metadata": {
        "id": "ONRpXMyHE1Q_"
      },
      "source": [
        "# TF Lite Convert"
      ]
    },
    {
      "cell_type": "code",
      "execution_count": null,
      "metadata": {
        "id": "VCf0fWfsE02p"
      },
      "outputs": [
        {
          "name": "stdout",
          "output_type": "stream",
          "text": [
            "INFO:tensorflow:Assets written to: C:\\Users\\RIZKIP~1\\AppData\\Local\\Temp\\tmpvlhvgpdt\\assets\n"
          ]
        },
        {
          "name": "stderr",
          "output_type": "stream",
          "text": [
            "INFO:tensorflow:Assets written to: C:\\Users\\RIZKIP~1\\AppData\\Local\\Temp\\tmpvlhvgpdt\\assets\n"
          ]
        },
        {
          "data": {
            "text/plain": [
              "151952"
            ]
          },
          "execution_count": 51,
          "metadata": {},
          "output_type": "execute_result"
        }
      ],
      "source": [
        "converter = tf.lite.TFLiteConverter.from_keras_model(model)\n",
        "tflite_model = converter.convert()\n",
        "\n",
        "tflite_file = pathlib.Path('haepe.tflite')\n",
        "tflite_file.write_bytes(tflite_model)"
      ]
    }
  ],
  "metadata": {
    "colab": {
      "collapsed_sections": [],
      "include_colab_link": true,
      "name": "haepe-recommendation-system.ipynb",
      "provenance": []
    },
    "interpreter": {
      "hash": "fd88e866c21503d77d8f2119b6f18787ed3cf03b7e87e5446f4f2c19f07ceb29"
    },
    "kernelspec": {
      "display_name": "Python 3.10.4 64-bit",
      "language": "python",
      "name": "python3"
    },
    "language_info": {
      "codemirror_mode": {
        "name": "ipython",
        "version": 3
      },
      "file_extension": ".py",
      "mimetype": "text/x-python",
      "name": "python",
      "nbconvert_exporter": "python",
      "pygments_lexer": "ipython3",
      "version": "3.10.4"
    }
  },
  "nbformat": 4,
  "nbformat_minor": 0
}
