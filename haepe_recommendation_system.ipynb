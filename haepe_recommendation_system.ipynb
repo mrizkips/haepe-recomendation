{
  "cells": [
    {
      "cell_type": "markdown",
      "metadata": {
        "colab_type": "text",
        "id": "view-in-github"
      },
      "source": [
        "<a href=\"https://colab.research.google.com/github/guteng083/Haepe-Recommendation-System/blob/main/haepe_recommendation_system.ipynb\" target=\"_parent\"><img src=\"https://colab.research.google.com/assets/colab-badge.svg\" alt=\"Open In Colab\"/></a>"
      ]
    },
    {
      "cell_type": "markdown",
      "metadata": {
        "id": "9Y29lRcaZDIT"
      },
      "source": [
        "# Import Library"
      ]
    },
    {
      "cell_type": "code",
      "execution_count": null,
      "metadata": {
        "id": "bqXPcyKSB_0N"
      },
      "outputs": [],
      "source": [
        "import pandas as pd\n",
        "import numpy as np\n",
        "import tensorflow as tf\n",
        "from tensorflow import keras\n",
        "import matplotlib.pyplot as plt\n",
        "%matplotlib inline\n",
        "from sklearn.preprocessing import LabelEncoder\n",
        "import pathlib"
      ]
    },
    {
      "cell_type": "markdown",
      "metadata": {
        "id": "B9BdseIDZJf_"
      },
      "source": [
        "# Load Data"
      ]
    },
    {
      "cell_type": "code",
      "execution_count": null,
      "metadata": {
        "colab": {
          "base_uri": "https://localhost:8080/",
          "height": 641
        },
        "id": "G3ZtuV56H2bw",
        "outputId": "b74211cb-665f-4384-c038-305c5b846586"
      },
      "outputs": [
        {
          "data": {
            "text/html": [
              "\n",
              "  <div id=\"df-4bac9912-a5f7-4233-9f7f-b1deb925146f\">\n",
              "    <div class=\"colab-df-container\">\n",
              "      <div>\n",
              "<style scoped>\n",
              "    .dataframe tbody tr th:only-of-type {\n",
              "        vertical-align: middle;\n",
              "    }\n",
              "\n",
              "    .dataframe tbody tr th {\n",
              "        vertical-align: top;\n",
              "    }\n",
              "\n",
              "    .dataframe thead th {\n",
              "        text-align: right;\n",
              "    }\n",
              "</style>\n",
              "<table border=\"1\" class=\"dataframe\">\n",
              "  <thead>\n",
              "    <tr style=\"text-align: right;\">\n",
              "      <th></th>\n",
              "      <th>Timestamp</th>\n",
              "      <th>Peran</th>\n",
              "      <th>Umur</th>\n",
              "      <th>Minat</th>\n",
              "      <th>Minat1</th>\n",
              "      <th>Minat2</th>\n",
              "      <th>Keahlian</th>\n",
              "      <th>Keahlian1</th>\n",
              "      <th>Aktivitas</th>\n",
              "    </tr>\n",
              "  </thead>\n",
              "  <tbody>\n",
              "    <tr>\n",
              "      <th>0</th>\n",
              "      <td>21/05/2022 12:39:46</td>\n",
              "      <td>Anak</td>\n",
              "      <td>21-55</td>\n",
              "      <td>Alam</td>\n",
              "      <td>Hiburan</td>\n",
              "      <td>Animasi</td>\n",
              "      <td>Masak</td>\n",
              "      <td>Manajemen</td>\n",
              "      <td>Membersihkan Rumah</td>\n",
              "    </tr>\n",
              "    <tr>\n",
              "      <th>1</th>\n",
              "      <td>21/05/2022 12:44:19</td>\n",
              "      <td>Ayah</td>\n",
              "      <td>21-55</td>\n",
              "      <td>Makanan</td>\n",
              "      <td>Olahraga</td>\n",
              "      <td>Binatang</td>\n",
              "      <td>Swakarya/DIY</td>\n",
              "      <td>Berkebun</td>\n",
              "      <td>Membersihkan Rumah</td>\n",
              "    </tr>\n",
              "    <tr>\n",
              "      <th>2</th>\n",
              "      <td>21/05/2022 12:46:16</td>\n",
              "      <td>Anak</td>\n",
              "      <td>15&lt;</td>\n",
              "      <td>Makanan</td>\n",
              "      <td>Animasi</td>\n",
              "      <td>Binatang</td>\n",
              "      <td>Swakarya/DIY</td>\n",
              "      <td>Sosialisasi</td>\n",
              "      <td>Belanja Kebutuhan</td>\n",
              "    </tr>\n",
              "    <tr>\n",
              "      <th>3</th>\n",
              "      <td>21/05/2022 12:49:24</td>\n",
              "      <td>Ibu</td>\n",
              "      <td>21-55</td>\n",
              "      <td>Makanan</td>\n",
              "      <td>Olahraga</td>\n",
              "      <td>Hiburan</td>\n",
              "      <td>Masak</td>\n",
              "      <td>Sosialisasi</td>\n",
              "      <td>Memasak</td>\n",
              "    </tr>\n",
              "    <tr>\n",
              "      <th>4</th>\n",
              "      <td>21/05/2022 13:03:39</td>\n",
              "      <td>Anak</td>\n",
              "      <td>15-20</td>\n",
              "      <td>Makanan</td>\n",
              "      <td>Hiburan</td>\n",
              "      <td>Keuangan</td>\n",
              "      <td>Masak</td>\n",
              "      <td>NaN</td>\n",
              "      <td>Membersihkan Rumah</td>\n",
              "    </tr>\n",
              "    <tr>\n",
              "      <th>...</th>\n",
              "      <td>...</td>\n",
              "      <td>...</td>\n",
              "      <td>...</td>\n",
              "      <td>...</td>\n",
              "      <td>...</td>\n",
              "      <td>...</td>\n",
              "      <td>...</td>\n",
              "      <td>...</td>\n",
              "      <td>...</td>\n",
              "    </tr>\n",
              "    <tr>\n",
              "      <th>282</th>\n",
              "      <td>25/05/2022 7:31:20</td>\n",
              "      <td>Anak</td>\n",
              "      <td>15&lt;</td>\n",
              "      <td>Olahraga</td>\n",
              "      <td>Alam</td>\n",
              "      <td>Binatang</td>\n",
              "      <td>Berkebun</td>\n",
              "      <td>NaN</td>\n",
              "      <td>Mencuci Piring</td>\n",
              "    </tr>\n",
              "    <tr>\n",
              "      <th>283</th>\n",
              "      <td>25/05/2022 19:23:51</td>\n",
              "      <td>Anak</td>\n",
              "      <td>21-55</td>\n",
              "      <td>Makanan</td>\n",
              "      <td>Hiburan</td>\n",
              "      <td>Edukasi</td>\n",
              "      <td>Sosialisasi</td>\n",
              "      <td>NaN</td>\n",
              "      <td>Membersihkan Rumah</td>\n",
              "    </tr>\n",
              "    <tr>\n",
              "      <th>284</th>\n",
              "      <td>25/05/2022 19:28:45</td>\n",
              "      <td>Ibu</td>\n",
              "      <td>21-55</td>\n",
              "      <td>Makanan</td>\n",
              "      <td>Hiburan</td>\n",
              "      <td>Keuangan</td>\n",
              "      <td>Masak</td>\n",
              "      <td>Berkebun</td>\n",
              "      <td>Memasak</td>\n",
              "    </tr>\n",
              "    <tr>\n",
              "      <th>285</th>\n",
              "      <td>25/05/2022 19:29:51</td>\n",
              "      <td>Ayah</td>\n",
              "      <td>21-55</td>\n",
              "      <td>Teknologi</td>\n",
              "      <td>Hiburan</td>\n",
              "      <td>Edukasi</td>\n",
              "      <td>Otomotif</td>\n",
              "      <td>Kelistrikan</td>\n",
              "      <td>Memperbaiki Rumah/Kelistrikan/Perabotan</td>\n",
              "    </tr>\n",
              "    <tr>\n",
              "      <th>286</th>\n",
              "      <td>26/05/2022 17:43:45</td>\n",
              "      <td>Anak</td>\n",
              "      <td>15&lt;</td>\n",
              "      <td>Makanan</td>\n",
              "      <td>Teknologi</td>\n",
              "      <td>Hiburan</td>\n",
              "      <td>Masak</td>\n",
              "      <td>Manajemen</td>\n",
              "      <td>Memasak</td>\n",
              "    </tr>\n",
              "  </tbody>\n",
              "</table>\n",
              "<p>287 rows × 9 columns</p>\n",
              "</div>\n",
              "      <button class=\"colab-df-convert\" onclick=\"convertToInteractive('df-4bac9912-a5f7-4233-9f7f-b1deb925146f')\"\n",
              "              title=\"Convert this dataframe to an interactive table.\"\n",
              "              style=\"display:none;\">\n",
              "        \n",
              "  <svg xmlns=\"http://www.w3.org/2000/svg\" height=\"24px\"viewBox=\"0 0 24 24\"\n",
              "       width=\"24px\">\n",
              "    <path d=\"M0 0h24v24H0V0z\" fill=\"none\"/>\n",
              "    <path d=\"M18.56 5.44l.94 2.06.94-2.06 2.06-.94-2.06-.94-.94-2.06-.94 2.06-2.06.94zm-11 1L8.5 8.5l.94-2.06 2.06-.94-2.06-.94L8.5 2.5l-.94 2.06-2.06.94zm10 10l.94 2.06.94-2.06 2.06-.94-2.06-.94-.94-2.06-.94 2.06-2.06.94z\"/><path d=\"M17.41 7.96l-1.37-1.37c-.4-.4-.92-.59-1.43-.59-.52 0-1.04.2-1.43.59L10.3 9.45l-7.72 7.72c-.78.78-.78 2.05 0 2.83L4 21.41c.39.39.9.59 1.41.59.51 0 1.02-.2 1.41-.59l7.78-7.78 2.81-2.81c.8-.78.8-2.07 0-2.86zM5.41 20L4 18.59l7.72-7.72 1.47 1.35L5.41 20z\"/>\n",
              "  </svg>\n",
              "      </button>\n",
              "      \n",
              "  <style>\n",
              "    .colab-df-container {\n",
              "      display:flex;\n",
              "      flex-wrap:wrap;\n",
              "      gap: 12px;\n",
              "    }\n",
              "\n",
              "    .colab-df-convert {\n",
              "      background-color: #E8F0FE;\n",
              "      border: none;\n",
              "      border-radius: 50%;\n",
              "      cursor: pointer;\n",
              "      display: none;\n",
              "      fill: #1967D2;\n",
              "      height: 32px;\n",
              "      padding: 0 0 0 0;\n",
              "      width: 32px;\n",
              "    }\n",
              "\n",
              "    .colab-df-convert:hover {\n",
              "      background-color: #E2EBFA;\n",
              "      box-shadow: 0px 1px 2px rgba(60, 64, 67, 0.3), 0px 1px 3px 1px rgba(60, 64, 67, 0.15);\n",
              "      fill: #174EA6;\n",
              "    }\n",
              "\n",
              "    [theme=dark] .colab-df-convert {\n",
              "      background-color: #3B4455;\n",
              "      fill: #D2E3FC;\n",
              "    }\n",
              "\n",
              "    [theme=dark] .colab-df-convert:hover {\n",
              "      background-color: #434B5C;\n",
              "      box-shadow: 0px 1px 3px 1px rgba(0, 0, 0, 0.15);\n",
              "      filter: drop-shadow(0px 1px 2px rgba(0, 0, 0, 0.3));\n",
              "      fill: #FFFFFF;\n",
              "    }\n",
              "  </style>\n",
              "\n",
              "      <script>\n",
              "        const buttonEl =\n",
              "          document.querySelector('#df-4bac9912-a5f7-4233-9f7f-b1deb925146f button.colab-df-convert');\n",
              "        buttonEl.style.display =\n",
              "          google.colab.kernel.accessAllowed ? 'block' : 'none';\n",
              "\n",
              "        async function convertToInteractive(key) {\n",
              "          const element = document.querySelector('#df-4bac9912-a5f7-4233-9f7f-b1deb925146f');\n",
              "          const dataTable =\n",
              "            await google.colab.kernel.invokeFunction('convertToInteractive',\n",
              "                                                     [key], {});\n",
              "          if (!dataTable) return;\n",
              "\n",
              "          const docLinkHtml = 'Like what you see? Visit the ' +\n",
              "            '<a target=\"_blank\" href=https://colab.research.google.com/notebooks/data_table.ipynb>data table notebook</a>'\n",
              "            + ' to learn more about interactive tables.';\n",
              "          element.innerHTML = '';\n",
              "          dataTable['output_type'] = 'display_data';\n",
              "          await google.colab.output.renderOutput(dataTable, element);\n",
              "          const docLink = document.createElement('div');\n",
              "          docLink.innerHTML = docLinkHtml;\n",
              "          element.appendChild(docLink);\n",
              "        }\n",
              "      </script>\n",
              "    </div>\n",
              "  </div>\n",
              "  "
            ],
            "text/plain": [
              "               Timestamp Peran   Umur      Minat     Minat1    Minat2  \\\n",
              "0    21/05/2022 12:39:46  Anak  21-55       Alam    Hiburan   Animasi   \n",
              "1    21/05/2022 12:44:19  Ayah  21-55    Makanan   Olahraga  Binatang   \n",
              "2    21/05/2022 12:46:16  Anak    15<    Makanan    Animasi  Binatang   \n",
              "3    21/05/2022 12:49:24   Ibu  21-55    Makanan   Olahraga   Hiburan   \n",
              "4    21/05/2022 13:03:39  Anak  15-20    Makanan    Hiburan  Keuangan   \n",
              "..                   ...   ...    ...        ...        ...       ...   \n",
              "282   25/05/2022 7:31:20  Anak    15<   Olahraga       Alam  Binatang   \n",
              "283  25/05/2022 19:23:51  Anak  21-55    Makanan    Hiburan   Edukasi   \n",
              "284  25/05/2022 19:28:45   Ibu  21-55    Makanan    Hiburan  Keuangan   \n",
              "285  25/05/2022 19:29:51  Ayah  21-55  Teknologi    Hiburan   Edukasi   \n",
              "286  26/05/2022 17:43:45  Anak    15<    Makanan  Teknologi   Hiburan   \n",
              "\n",
              "         Keahlian    Keahlian1                                Aktivitas  \n",
              "0           Masak    Manajemen                       Membersihkan Rumah  \n",
              "1    Swakarya/DIY     Berkebun                       Membersihkan Rumah  \n",
              "2    Swakarya/DIY  Sosialisasi                        Belanja Kebutuhan  \n",
              "3           Masak  Sosialisasi                                  Memasak  \n",
              "4           Masak          NaN                       Membersihkan Rumah  \n",
              "..            ...          ...                                      ...  \n",
              "282      Berkebun          NaN                           Mencuci Piring  \n",
              "283   Sosialisasi          NaN                       Membersihkan Rumah  \n",
              "284         Masak     Berkebun                                  Memasak  \n",
              "285      Otomotif  Kelistrikan  Memperbaiki Rumah/Kelistrikan/Perabotan  \n",
              "286         Masak    Manajemen                                  Memasak  \n",
              "\n",
              "[287 rows x 9 columns]"
            ]
          },
          "execution_count": 25,
          "metadata": {},
          "output_type": "execute_result"
        }
      ],
      "source": [
        "data = pd.read_csv('/content/Cemara Dataset.csv')\n",
        "data"
      ]
    },
    {
      "cell_type": "markdown",
      "metadata": {
        "id": "HwoX_EwLcaWT"
      },
      "source": [
        "# Preprocessing Data"
      ]
    },
    {
      "cell_type": "code",
      "execution_count": null,
      "metadata": {
        "id": "bB983rDteGDm"
      },
      "outputs": [],
      "source": [
        "data = data.drop(['Timestamp'], axis=1)"
      ]
    },
    {
      "cell_type": "code",
      "execution_count": null,
      "metadata": {
        "colab": {
          "base_uri": "https://localhost:8080/"
        },
        "id": "VR4atq7afOMX",
        "outputId": "a89ed1f9-1ce5-454d-a7f6-1cb4f796345b"
      },
      "outputs": [
        {
          "name": "stdout",
          "output_type": "stream",
          "text": [
            "<class 'pandas.core.frame.DataFrame'>\n",
            "RangeIndex: 287 entries, 0 to 286\n",
            "Data columns (total 8 columns):\n",
            " #   Column     Non-Null Count  Dtype \n",
            "---  ------     --------------  ----- \n",
            " 0   Peran      287 non-null    object\n",
            " 1   Umur       287 non-null    object\n",
            " 2   Minat      287 non-null    object\n",
            " 3   Minat1     287 non-null    object\n",
            " 4   Minat2     287 non-null    object\n",
            " 5   Keahlian   287 non-null    object\n",
            " 6   Keahlian1  222 non-null    object\n",
            " 7   Aktivitas  287 non-null    object\n",
            "dtypes: object(8)\n",
            "memory usage: 18.1+ KB\n"
          ]
        }
      ],
      "source": [
        "data.info()"
      ]
    },
    {
      "cell_type": "code",
      "execution_count": null,
      "metadata": {
        "colab": {
          "base_uri": "https://localhost:8080/"
        },
        "id": "C9xIFmVVfqlE",
        "outputId": "84fb3a1b-dc45-4d16-a53b-bdd34399a076"
      },
      "outputs": [
        {
          "data": {
            "text/plain": [
              "Peran         0\n",
              "Umur          0\n",
              "Minat         0\n",
              "Minat1        0\n",
              "Minat2        0\n",
              "Keahlian      0\n",
              "Keahlian1    65\n",
              "Aktivitas     0\n",
              "dtype: int64"
            ]
          },
          "execution_count": 28,
          "metadata": {},
          "output_type": "execute_result"
        }
      ],
      "source": [
        "data.isnull().sum()"
      ]
    },
    {
      "cell_type": "code",
      "execution_count": null,
      "metadata": {
        "colab": {
          "base_uri": "https://localhost:8080/",
          "height": 206
        },
        "id": "xOR5E8wfQM9e",
        "outputId": "504b2191-4e8a-439c-c874-33211857f340"
      },
      "outputs": [
        {
          "data": {
            "text/html": [
              "\n",
              "  <div id=\"df-0624834d-d44c-4889-8c10-9f0968d3f1c7\">\n",
              "    <div class=\"colab-df-container\">\n",
              "      <div>\n",
              "<style scoped>\n",
              "    .dataframe tbody tr th:only-of-type {\n",
              "        vertical-align: middle;\n",
              "    }\n",
              "\n",
              "    .dataframe tbody tr th {\n",
              "        vertical-align: top;\n",
              "    }\n",
              "\n",
              "    .dataframe thead th {\n",
              "        text-align: right;\n",
              "    }\n",
              "</style>\n",
              "<table border=\"1\" class=\"dataframe\">\n",
              "  <thead>\n",
              "    <tr style=\"text-align: right;\">\n",
              "      <th></th>\n",
              "      <th>Peran</th>\n",
              "      <th>Umur</th>\n",
              "      <th>Minat</th>\n",
              "      <th>Minat1</th>\n",
              "      <th>Minat2</th>\n",
              "      <th>Keahlian</th>\n",
              "      <th>Keahlian1</th>\n",
              "      <th>Aktivitas</th>\n",
              "    </tr>\n",
              "  </thead>\n",
              "  <tbody>\n",
              "    <tr>\n",
              "      <th>0</th>\n",
              "      <td>Anak</td>\n",
              "      <td>21-55</td>\n",
              "      <td>Alam</td>\n",
              "      <td>Hiburan</td>\n",
              "      <td>Animasi</td>\n",
              "      <td>Masak</td>\n",
              "      <td>Manajemen</td>\n",
              "      <td>Membersihkan Rumah</td>\n",
              "    </tr>\n",
              "    <tr>\n",
              "      <th>1</th>\n",
              "      <td>Ayah</td>\n",
              "      <td>21-55</td>\n",
              "      <td>Makanan</td>\n",
              "      <td>Olahraga</td>\n",
              "      <td>Binatang</td>\n",
              "      <td>Swakarya/DIY</td>\n",
              "      <td>Berkebun</td>\n",
              "      <td>Membersihkan Rumah</td>\n",
              "    </tr>\n",
              "    <tr>\n",
              "      <th>2</th>\n",
              "      <td>Anak</td>\n",
              "      <td>15&lt;</td>\n",
              "      <td>Makanan</td>\n",
              "      <td>Animasi</td>\n",
              "      <td>Binatang</td>\n",
              "      <td>Swakarya/DIY</td>\n",
              "      <td>Sosialisasi</td>\n",
              "      <td>Belanja Kebutuhan</td>\n",
              "    </tr>\n",
              "    <tr>\n",
              "      <th>3</th>\n",
              "      <td>Ibu</td>\n",
              "      <td>21-55</td>\n",
              "      <td>Makanan</td>\n",
              "      <td>Olahraga</td>\n",
              "      <td>Hiburan</td>\n",
              "      <td>Masak</td>\n",
              "      <td>Sosialisasi</td>\n",
              "      <td>Memasak</td>\n",
              "    </tr>\n",
              "    <tr>\n",
              "      <th>4</th>\n",
              "      <td>Anak</td>\n",
              "      <td>15-20</td>\n",
              "      <td>Makanan</td>\n",
              "      <td>Hiburan</td>\n",
              "      <td>Keuangan</td>\n",
              "      <td>Masak</td>\n",
              "      <td>Berkebun</td>\n",
              "      <td>Membersihkan Rumah</td>\n",
              "    </tr>\n",
              "  </tbody>\n",
              "</table>\n",
              "</div>\n",
              "      <button class=\"colab-df-convert\" onclick=\"convertToInteractive('df-0624834d-d44c-4889-8c10-9f0968d3f1c7')\"\n",
              "              title=\"Convert this dataframe to an interactive table.\"\n",
              "              style=\"display:none;\">\n",
              "        \n",
              "  <svg xmlns=\"http://www.w3.org/2000/svg\" height=\"24px\"viewBox=\"0 0 24 24\"\n",
              "       width=\"24px\">\n",
              "    <path d=\"M0 0h24v24H0V0z\" fill=\"none\"/>\n",
              "    <path d=\"M18.56 5.44l.94 2.06.94-2.06 2.06-.94-2.06-.94-.94-2.06-.94 2.06-2.06.94zm-11 1L8.5 8.5l.94-2.06 2.06-.94-2.06-.94L8.5 2.5l-.94 2.06-2.06.94zm10 10l.94 2.06.94-2.06 2.06-.94-2.06-.94-.94-2.06-.94 2.06-2.06.94z\"/><path d=\"M17.41 7.96l-1.37-1.37c-.4-.4-.92-.59-1.43-.59-.52 0-1.04.2-1.43.59L10.3 9.45l-7.72 7.72c-.78.78-.78 2.05 0 2.83L4 21.41c.39.39.9.59 1.41.59.51 0 1.02-.2 1.41-.59l7.78-7.78 2.81-2.81c.8-.78.8-2.07 0-2.86zM5.41 20L4 18.59l7.72-7.72 1.47 1.35L5.41 20z\"/>\n",
              "  </svg>\n",
              "      </button>\n",
              "      \n",
              "  <style>\n",
              "    .colab-df-container {\n",
              "      display:flex;\n",
              "      flex-wrap:wrap;\n",
              "      gap: 12px;\n",
              "    }\n",
              "\n",
              "    .colab-df-convert {\n",
              "      background-color: #E8F0FE;\n",
              "      border: none;\n",
              "      border-radius: 50%;\n",
              "      cursor: pointer;\n",
              "      display: none;\n",
              "      fill: #1967D2;\n",
              "      height: 32px;\n",
              "      padding: 0 0 0 0;\n",
              "      width: 32px;\n",
              "    }\n",
              "\n",
              "    .colab-df-convert:hover {\n",
              "      background-color: #E2EBFA;\n",
              "      box-shadow: 0px 1px 2px rgba(60, 64, 67, 0.3), 0px 1px 3px 1px rgba(60, 64, 67, 0.15);\n",
              "      fill: #174EA6;\n",
              "    }\n",
              "\n",
              "    [theme=dark] .colab-df-convert {\n",
              "      background-color: #3B4455;\n",
              "      fill: #D2E3FC;\n",
              "    }\n",
              "\n",
              "    [theme=dark] .colab-df-convert:hover {\n",
              "      background-color: #434B5C;\n",
              "      box-shadow: 0px 1px 3px 1px rgba(0, 0, 0, 0.15);\n",
              "      filter: drop-shadow(0px 1px 2px rgba(0, 0, 0, 0.3));\n",
              "      fill: #FFFFFF;\n",
              "    }\n",
              "  </style>\n",
              "\n",
              "      <script>\n",
              "        const buttonEl =\n",
              "          document.querySelector('#df-0624834d-d44c-4889-8c10-9f0968d3f1c7 button.colab-df-convert');\n",
              "        buttonEl.style.display =\n",
              "          google.colab.kernel.accessAllowed ? 'block' : 'none';\n",
              "\n",
              "        async function convertToInteractive(key) {\n",
              "          const element = document.querySelector('#df-0624834d-d44c-4889-8c10-9f0968d3f1c7');\n",
              "          const dataTable =\n",
              "            await google.colab.kernel.invokeFunction('convertToInteractive',\n",
              "                                                     [key], {});\n",
              "          if (!dataTable) return;\n",
              "\n",
              "          const docLinkHtml = 'Like what you see? Visit the ' +\n",
              "            '<a target=\"_blank\" href=https://colab.research.google.com/notebooks/data_table.ipynb>data table notebook</a>'\n",
              "            + ' to learn more about interactive tables.';\n",
              "          element.innerHTML = '';\n",
              "          dataTable['output_type'] = 'display_data';\n",
              "          await google.colab.output.renderOutput(dataTable, element);\n",
              "          const docLink = document.createElement('div');\n",
              "          docLink.innerHTML = docLinkHtml;\n",
              "          element.appendChild(docLink);\n",
              "        }\n",
              "      </script>\n",
              "    </div>\n",
              "  </div>\n",
              "  "
            ],
            "text/plain": [
              "  Peran   Umur    Minat    Minat1    Minat2      Keahlian    Keahlian1  \\\n",
              "0  Anak  21-55     Alam   Hiburan   Animasi         Masak    Manajemen   \n",
              "1  Ayah  21-55  Makanan  Olahraga  Binatang  Swakarya/DIY     Berkebun   \n",
              "2  Anak    15<  Makanan   Animasi  Binatang  Swakarya/DIY  Sosialisasi   \n",
              "3   Ibu  21-55  Makanan  Olahraga   Hiburan         Masak  Sosialisasi   \n",
              "4  Anak  15-20  Makanan   Hiburan  Keuangan         Masak     Berkebun   \n",
              "\n",
              "            Aktivitas  \n",
              "0  Membersihkan Rumah  \n",
              "1  Membersihkan Rumah  \n",
              "2   Belanja Kebutuhan  \n",
              "3             Memasak  \n",
              "4  Membersihkan Rumah  "
            ]
          },
          "execution_count": 29,
          "metadata": {},
          "output_type": "execute_result"
        }
      ],
      "source": [
        "#Ganti data yang hilang dengan data yang paling sering\n",
        "data = data.fillna(data.mode().iloc[0])\n",
        "data.head()"
      ]
    },
    {
      "cell_type": "code",
      "execution_count": null,
      "metadata": {
        "colab": {
          "base_uri": "https://localhost:8080/"
        },
        "id": "cubkEdtKQ-K0",
        "outputId": "b13573b3-3c79-4ba8-d19d-312baa714385"
      },
      "outputs": [
        {
          "data": {
            "text/plain": [
              "Peran        0\n",
              "Umur         0\n",
              "Minat        0\n",
              "Minat1       0\n",
              "Minat2       0\n",
              "Keahlian     0\n",
              "Keahlian1    0\n",
              "Aktivitas    0\n",
              "dtype: int64"
            ]
          },
          "execution_count": 30,
          "metadata": {},
          "output_type": "execute_result"
        }
      ],
      "source": [
        "data.isnull().sum()"
      ]
    },
    {
      "cell_type": "markdown",
      "metadata": {
        "id": "DwFgidb-cDN6"
      },
      "source": [
        "# Exploratory Data Analysis"
      ]
    },
    {
      "cell_type": "code",
      "execution_count": null,
      "metadata": {
        "colab": {
          "base_uri": "https://localhost:8080/"
        },
        "id": "MqfYWOpoVeVf",
        "outputId": "538a2f4f-e8d6-4030-aee4-0ec66980d2b7"
      },
      "outputs": [
        {
          "data": {
            "text/plain": [
              "Peran        3\n",
              "Umur         4\n",
              "Minat        8\n",
              "Minat1       9\n",
              "Minat2       9\n",
              "Keahlian     7\n",
              "Keahlian1    6\n",
              "Aktivitas    8\n",
              "dtype: int64"
            ]
          },
          "execution_count": 31,
          "metadata": {},
          "output_type": "execute_result"
        }
      ],
      "source": [
        "data.nunique()"
      ]
    },
    {
      "cell_type": "code",
      "execution_count": null,
      "metadata": {
        "colab": {
          "base_uri": "https://localhost:8080/",
          "height": 367
        },
        "id": "vt-ON636VsbT",
        "outputId": "ef0d9535-94b7-42a9-efac-a18a94685d19"
      },
      "outputs": [
        {
          "name": "stdout",
          "output_type": "stream",
          "text": [
            "Anak    105\n",
            "Ibu      98\n",
            "Ayah     84\n",
            "Name: Peran, dtype: int64\n"
          ]
        },
        {
          "data": {
            "text/plain": [
              "<matplotlib.axes._subplots.AxesSubplot at 0x7fcfc48dc310>"
            ]
          },
          "execution_count": 32,
          "metadata": {},
          "output_type": "execute_result"
        },
        {
          "data": {
            "image/png": "[encoded data removed]",
            "text/plain": [
              "<Figure size 432x288 with 1 Axes>"
            ]
          },
          "metadata": {
            "needs_background": "light"
          },
          "output_type": "display_data"
        }
      ],
      "source": [
        "cat_value = data['Peran'].value_counts()\n",
        "print(cat_value)\n",
        "cat_value.plot(kind='bar')"
      ]
    },
    {
      "cell_type": "code",
      "execution_count": null,
      "metadata": {
        "colab": {
          "base_uri": "https://localhost:8080/",
          "height": 388
        },
        "id": "9Dbkf1g-VwrJ",
        "outputId": "eeb75b2f-743c-4679-f9d6-9e1d6b1a033c"
      },
      "outputs": [
        {
          "name": "stdout",
          "output_type": "stream",
          "text": [
            "21-55    184\n",
            "15-20     48\n",
            ">55       29\n",
            "15<       26\n",
            "Name: Umur, dtype: int64\n"
          ]
        },
        {
          "data": {
            "text/plain": [
              "<matplotlib.axes._subplots.AxesSubplot at 0x7fcfbfeac4d0>"
            ]
          },
          "execution_count": 33,
          "metadata": {},
          "output_type": "execute_result"
        },
        {
          "data": {
            "image/png": "[encoded data removed]",
            "text/plain": [
              "<Figure size 432x288 with 1 Axes>"
            ]
          },
          "metadata": {
            "needs_background": "light"
          },
          "output_type": "display_data"
        }
      ],
      "source": [
        "cat_value = data['Umur'].value_counts()\n",
        "print(cat_value)\n",
        "cat_value.plot(kind='bar')"
      ]
    },
    {
      "cell_type": "code",
      "execution_count": null,
      "metadata": {
        "colab": {
          "base_uri": "https://localhost:8080/",
          "height": 479
        },
        "id": "4mo1E9HMVxLe",
        "outputId": "36fe37b1-02d9-4802-a79b-3629595bf30e"
      },
      "outputs": [
        {
          "name": "stdout",
          "output_type": "stream",
          "text": [
            "Makanan      149\n",
            "Olahraga      59\n",
            "Alam          28\n",
            "Hiburan       23\n",
            "Teknologi     20\n",
            "Edukasi        6\n",
            "Keuangan       1\n",
            "Binatang       1\n",
            "Name: Minat, dtype: int64\n"
          ]
        },
        {
          "data": {
            "text/plain": [
              "<matplotlib.axes._subplots.AxesSubplot at 0x7fcfbfe2b610>"
            ]
          },
          "execution_count": 34,
          "metadata": {},
          "output_type": "execute_result"
        },
        {
          "data": {
            "image/png": "[encoded data removed]",
            "text/plain": [
              "<Figure size 432x288 with 1 Axes>"
            ]
          },
          "metadata": {
            "needs_background": "light"
          },
          "output_type": "display_data"
        }
      ],
      "source": [
        "cat_value = data['Minat'].value_counts()\n",
        "print(cat_value)\n",
        "cat_value.plot(kind='bar')"
      ]
    },
    {
      "cell_type": "code",
      "execution_count": null,
      "metadata": {
        "colab": {
          "base_uri": "https://localhost:8080/",
          "height": 498
        },
        "id": "iz3g1YPeVx0u",
        "outputId": "0817ca00-e7d6-4055-ea75-a77b6820a26a"
      },
      "outputs": [
        {
          "name": "stdout",
          "output_type": "stream",
          "text": [
            "Hiburan      96\n",
            "Alam         41\n",
            "Edukasi      40\n",
            "Olahraga     36\n",
            "Keuangan     29\n",
            "Teknologi    29\n",
            "Animasi       6\n",
            "Binatang      6\n",
            "Literatur     4\n",
            "Name: Minat1, dtype: int64\n"
          ]
        },
        {
          "data": {
            "text/plain": [
              "<matplotlib.axes._subplots.AxesSubplot at 0x7fcfbfdad990>"
            ]
          },
          "execution_count": 35,
          "metadata": {},
          "output_type": "execute_result"
        },
        {
          "data": {
            "image/png": "[encoded data removed]",
            "text/plain": [
              "<Figure size 432x288 with 1 Axes>"
            ]
          },
          "metadata": {
            "needs_background": "light"
          },
          "output_type": "display_data"
        }
      ],
      "source": [
        "cat_value = data['Minat1'].value_counts()\n",
        "print(cat_value)\n",
        "cat_value.plot(kind='bar')"
      ]
    },
    {
      "cell_type": "code",
      "execution_count": null,
      "metadata": {
        "colab": {
          "base_uri": "https://localhost:8080/",
          "height": 499
        },
        "id": "15R-uuxlVxr5",
        "outputId": "994ac87c-935e-4934-d447-95b7acef3bf3"
      },
      "outputs": [
        {
          "name": "stdout",
          "output_type": "stream",
          "text": [
            "Kesehatan    85\n",
            "Keuangan     55\n",
            "Hiburan      43\n",
            "Edukasi      27\n",
            "Binatang     25\n",
            "Animasi      23\n",
            "Teknologi    13\n",
            "Literatur    13\n",
            "Alam          3\n",
            "Name: Minat2, dtype: int64\n"
          ]
        },
        {
          "data": {
            "text/plain": [
              "<matplotlib.axes._subplots.AxesSubplot at 0x7fcfbfe87c50>"
            ]
          },
          "execution_count": 36,
          "metadata": {},
          "output_type": "execute_result"
        },
        {
          "data": {
            "image/png": "[encoded data removed]",
            "text/plain": [
              "<Figure size 432x288 with 1 Axes>"
            ]
          },
          "metadata": {
            "needs_background": "light"
          },
          "output_type": "display_data"
        }
      ],
      "source": [
        "cat_value = data['Minat2'].value_counts()\n",
        "print(cat_value)\n",
        "cat_value.plot(kind='bar')"
      ]
    },
    {
      "cell_type": "code",
      "execution_count": null,
      "metadata": {
        "colab": {
          "base_uri": "https://localhost:8080/",
          "height": 480
        },
        "id": "CxdSY53rVxip",
        "outputId": "7a9d8f3d-1a9b-4d79-f5f4-cbb202e2da1d"
      },
      "outputs": [
        {
          "name": "stdout",
          "output_type": "stream",
          "text": [
            "Masak           142\n",
            "Sosialisasi      43\n",
            "Swakarya/DIY     39\n",
            "Otomotif         21\n",
            "Manajemen        19\n",
            "Berkebun         15\n",
            "Kelistrikan       8\n",
            "Name: Keahlian, dtype: int64\n"
          ]
        },
        {
          "data": {
            "text/plain": [
              "<matplotlib.axes._subplots.AxesSubplot at 0x7fcfbfca2c90>"
            ]
          },
          "execution_count": 37,
          "metadata": {},
          "output_type": "execute_result"
        },
        {
          "data": {
            "image/png": "[encoded data removed]",
            "text/plain": [
              "<Figure size 432x288 with 1 Axes>"
            ]
          },
          "metadata": {
            "needs_background": "light"
          },
          "output_type": "display_data"
        }
      ],
      "source": [
        "cat_value = data['Keahlian'].value_counts()\n",
        "print(cat_value)\n",
        "cat_value.plot(kind='bar')"
      ]
    },
    {
      "cell_type": "code",
      "execution_count": null,
      "metadata": {
        "colab": {
          "base_uri": "https://localhost:8080/",
          "height": 463
        },
        "id": "QMcmj6yZV2i7",
        "outputId": "f6aa3bac-55b9-4a33-8858-580eca27fcd6"
      },
      "outputs": [
        {
          "name": "stdout",
          "output_type": "stream",
          "text": [
            "Berkebun        124\n",
            "Manajemen        52\n",
            "Sosialisasi      47\n",
            "Swakarya/DIY     26\n",
            "Otomotif         20\n",
            "Kelistrikan      18\n",
            "Name: Keahlian1, dtype: int64\n"
          ]
        },
        {
          "data": {
            "text/plain": [
              "<matplotlib.axes._subplots.AxesSubplot at 0x7fcfbfc28ad0>"
            ]
          },
          "execution_count": 38,
          "metadata": {},
          "output_type": "execute_result"
        },
        {
          "data": {
            "image/png": "[encoded data removed]",
            "text/plain": [
              "<Figure size 432x288 with 1 Axes>"
            ]
          },
          "metadata": {
            "needs_background": "light"
          },
          "output_type": "display_data"
        }
      ],
      "source": [
        "cat_value = data['Keahlian1'].value_counts()\n",
        "print(cat_value)\n",
        "cat_value.plot(kind='bar')"
      ]
    },
    {
      "cell_type": "code",
      "execution_count": null,
      "metadata": {
        "id": "uUf_hLG0ae-l"
      },
      "outputs": [],
      "source": [
        "x = data.drop(['Aktivitas'], axis=1)\n",
        "y = data['Aktivitas']\n",
        "\n",
        "le = LabelEncoder()\n",
        "x = pd.get_dummies(x)\n",
        "y = le.fit_transform(y)"
      ]
    },
    {
      "cell_type": "code",
      "execution_count": null,
      "metadata": {
        "id": "JIMnerM-GHww"
      },
      "outputs": [],
      "source": [
        "from sklearn.model_selection import train_test_split\n",
        "\n",
        "x_train, x_test, y_train, y_test = train_test_split(x, y, test_size=0.1, random_state=42)"
      ]
    },
    {
      "cell_type": "markdown",
      "metadata": {
        "id": "XRIbvZ0Bb_PO"
      },
      "source": [
        "# Create Model"
      ]
    },
    {
      "cell_type": "code",
      "execution_count": null,
      "metadata": {
        "id": "8sEpgBmEb91C"
      },
      "outputs": [],
      "source": [
        "input = keras.Input(shape=(46,))\n",
        "dense1 = keras.layers.Dense(46, activation='relu')(input)\n",
        "dense2 = keras.layers.Dense(100, activation='relu')(dense1)\n",
        "dense3 = keras.layers.Dense(100, activation='relu')(dense2)\n",
        "dense4 = keras.layers.Dense(200, activation='relu')(dense3)\n",
        "output = keras.layers.Dense(1)(dense4)\n",
        "\n",
        "model = keras.Model(inputs=input, outputs=output)\n",
        "model.compile(optimizer='adam', loss='mean_squared_error')"
      ]
    },
    {
      "cell_type": "code",
      "execution_count": null,
      "metadata": {
        "colab": {
          "base_uri": "https://localhost:8080/"
        },
        "id": "hprW68Rfckvp",
        "outputId": "fc8329f4-12f2-4dca-9b81-a3712fec26d1"
      },
      "outputs": [
        {
          "name": "stdout",
          "output_type": "stream",
          "text": [
            "Model: \"model_1\"\n",
            "_________________________________________________________________\n",
            " Layer (type)                Output Shape              Param #   \n",
            "=================================================================\n",
            " input_2 (InputLayer)        [(None, 46)]              0         \n",
            "                                                                 \n",
            " dense_5 (Dense)             (None, 46)                2162      \n",
            "                                                                 \n",
            " dense_6 (Dense)             (None, 100)               4700      \n",
            "                                                                 \n",
            " dense_7 (Dense)             (None, 100)               10100     \n",
            "                                                                 \n",
            " dense_8 (Dense)             (None, 200)               20200     \n",
            "                                                                 \n",
            " dense_9 (Dense)             (None, 1)                 201       \n",
            "                                                                 \n",
            "=================================================================\n",
            "Total params: 37,363\n",
            "Trainable params: 37,363\n",
            "Non-trainable params: 0\n",
            "_________________________________________________________________\n"
          ]
        }
      ],
      "source": [
        "model.summary()"
      ]
    },
    {
      "cell_type": "markdown",
      "metadata": {
        "id": "pfW-S_xZcnP_"
      },
      "source": [
        "# Train Model"
      ]
    },
    {
      "cell_type": "code",
      "execution_count": null,
      "metadata": {
        "colab": {
          "base_uri": "https://localhost:8080/"
        },
        "id": "fM0xWHbVclU2",
        "outputId": "8b3ee536-ce8a-446b-8ad5-dce2abba336b"
      },
      "outputs": [
        {
          "name": "stdout",
          "output_type": "stream",
          "text": [
            "Epoch 1/20\n",
            "9/9 [==============================] - 0s 3ms/step - loss: 11.8192\n",
            "Epoch 2/20\n",
            "9/9 [==============================] - 0s 3ms/step - loss: 6.0362\n",
            "Epoch 3/20\n",
            "9/9 [==============================] - 0s 3ms/step - loss: 4.4777\n",
            "Epoch 4/20\n",
            "9/9 [==============================] - 0s 4ms/step - loss: 4.0337\n",
            "Epoch 5/20\n",
            "9/9 [==============================] - 0s 3ms/step - loss: 3.6444\n",
            "Epoch 6/20\n",
            "9/9 [==============================] - 0s 3ms/step - loss: 3.4964\n",
            "Epoch 7/20\n",
            "9/9 [==============================] - 0s 3ms/step - loss: 3.2274\n",
            "Epoch 8/20\n",
            "9/9 [==============================] - 0s 4ms/step - loss: 3.1066\n",
            "Epoch 9/20\n",
            "9/9 [==============================] - 0s 3ms/step - loss: 2.9487\n",
            "Epoch 10/20\n",
            "9/9 [==============================] - 0s 3ms/step - loss: 2.9151\n",
            "Epoch 11/20\n",
            "9/9 [==============================] - 0s 3ms/step - loss: 2.6423\n",
            "Epoch 12/20\n",
            "9/9 [==============================] - 0s 3ms/step - loss: 2.4834\n",
            "Epoch 13/20\n",
            "9/9 [==============================] - 0s 3ms/step - loss: 2.2950\n",
            "Epoch 14/20\n",
            "9/9 [==============================] - 0s 3ms/step - loss: 2.2968\n",
            "Epoch 15/20\n",
            "9/9 [==============================] - 0s 3ms/step - loss: 2.2866\n",
            "Epoch 16/20\n",
            "9/9 [==============================] - 0s 4ms/step - loss: 2.1685\n",
            "Epoch 17/20\n",
            "9/9 [==============================] - 0s 4ms/step - loss: 2.0513\n",
            "Epoch 18/20\n",
            "9/9 [==============================] - 0s 4ms/step - loss: 1.8976\n",
            "Epoch 19/20\n",
            "9/9 [==============================] - 0s 3ms/step - loss: 1.7999\n",
            "Epoch 20/20\n",
            "9/9 [==============================] - 0s 3ms/step - loss: 1.6420\n"
          ]
        }
      ],
      "source": [
        "history = model.fit(x_train, y_train, epochs=20, verbose=1)"
      ]
    },
    {
      "cell_type": "markdown",
      "metadata": {
        "id": "euV_uXIQc324"
      },
      "source": [
        "# Evaluate Model"
      ]
    },
    {
      "cell_type": "code",
      "execution_count": null,
      "metadata": {
        "colab": {
          "base_uri": "https://localhost:8080/",
          "height": 296
        },
        "id": "MsWephZWc1cU",
        "outputId": "f7acad25-81ae-40dd-ff3f-f2fd777d3f51"
      },
      "outputs": [
        {
          "data": {
            "text/plain": [
              "Text(0, 0.5, 'Training Error')"
            ]
          },
          "execution_count": 44,
          "metadata": {},
          "output_type": "execute_result"
        },
        {
          "data": {
            "image/png": "[encoded data removed]",
            "text/plain": [
              "<Figure size 432x288 with 1 Axes>"
            ]
          },
          "metadata": {
            "needs_background": "light"
          },
          "output_type": "display_data"
        }
      ],
      "source": [
        "plt.plot(history.history['loss'])\n",
        "plt.xlabel(\"Epochs\")\n",
        "plt.ylabel(\"Training Error\")"
      ]
    },
    {
      "cell_type": "code",
      "execution_count": null,
      "metadata": {
        "colab": {
          "base_uri": "https://localhost:8080/"
        },
        "id": "-pLQ2-jscAZQ",
        "outputId": "23bfdbcb-1a1c-4288-ac9d-16320d3a52f5"
      },
      "outputs": [
        {
          "name": "stdout",
          "output_type": "stream",
          "text": [
            "1/1 [==============================] - 0s 27ms/step - loss: 3.7374\n"
          ]
        },
        {
          "data": {
            "text/plain": [
              "3.737399101257324"
            ]
          },
          "execution_count": 49,
          "metadata": {},
          "output_type": "execute_result"
        }
      ],
      "source": [
        "model.evaluate(x_test, y_test)"
      ]
    },
    {
      "cell_type": "markdown",
      "metadata": {
        "id": "KcdkdxrpAQi1"
      },
      "source": [
        "# Model Save"
      ]
    },
    {
      "cell_type": "code",
      "execution_count": null,
      "metadata": {
        "id": "ZtFydO5pkmno"
      },
      "outputs": [],
      "source": [
        "model.save('haepe.h5')"
      ]
    },
    {
      "cell_type": "markdown",
      "metadata": {
        "id": "ONRpXMyHE1Q_"
      },
      "source": [
        "# TF Lite Convert"
      ]
    },
    {
      "cell_type": "code",
      "execution_count": null,
      "metadata": {
        "id": "VCf0fWfsE02p"
      },
      "outputs": [],
      "source": [
        "converter = tf.lite.TFLiteConverter.from_keras_model(model)\n",
        "tflite_model = converter.convert()\n",
        "\n",
        "tflite_file = pathlib.Path('/content/haepe.tflite')\n",
        "tflite_file.write_bytes(tflite_model)"
      ]
    }
  ],
  "metadata": {
    "colab": {
      "collapsed_sections": [],
      "include_colab_link": true,
      "name": "haepe-recommendation-system.ipynb",
      "provenance": []
    },
    "kernelspec": {
      "display_name": "Python 3",
      "name": "python3"
    },
    "language_info": {
      "name": "python"
    }
  },
  "nbformat": 4,
  "nbformat_minor": 0
}
