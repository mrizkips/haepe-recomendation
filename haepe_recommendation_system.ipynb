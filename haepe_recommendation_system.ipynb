{
  "cells": [
    {
      "cell_type": "markdown",
      "metadata": {
        "colab_type": "text",
        "id": "view-in-github"
      },
      "source": [
        "<a href=\"https://colab.research.google.com/github/guteng083/Haepe-Recommendation-System/blob/main/haepe_recommendation_system.ipynb\" target=\"_parent\"><img src=\"https://colab.research.google.com/assets/colab-badge.svg\" alt=\"Open In Colab\"/></a>"
      ]
    },
    {
      "cell_type": "markdown",
      "metadata": {
        "id": "9Y29lRcaZDIT"
      },
      "source": [
        "# Import Library"
      ]
    },
    {
      "cell_type": "code",
      "execution_count": 191,
      "metadata": {
        "id": "bqXPcyKSB_0N"
      },
      "outputs": [],
      "source": [
        "import pandas as pd\n",
        "import numpy as np\n",
        "import tensorflow as tf\n",
        "from tensorflow import keras\n",
        "import matplotlib.pyplot as plt\n",
        "%matplotlib inline\n",
        "from sklearn.preprocessing import LabelEncoder\n",
        "import pathlib"
      ]
    },
    {
      "cell_type": "markdown",
      "metadata": {
        "id": "B9BdseIDZJf_"
      },
      "source": [
        "# Load Data"
      ]
    },
    {
      "cell_type": "code",
      "execution_count": 192,
      "metadata": {
        "colab": {
          "base_uri": "https://localhost:8080/",
          "height": 641
        },
        "id": "G3ZtuV56H2bw",
        "outputId": "b74211cb-665f-4384-c038-305c5b846586"
      },
      "outputs": [
        {
          "data": {
            "text/html": [
              "<div>\n",
              "<style scoped>\n",
              "    .dataframe tbody tr th:only-of-type {\n",
              "        vertical-align: middle;\n",
              "    }\n",
              "\n",
              "    .dataframe tbody tr th {\n",
              "        vertical-align: top;\n",
              "    }\n",
              "\n",
              "    .dataframe thead th {\n",
              "        text-align: right;\n",
              "    }\n",
              "</style>\n",
              "<table border=\"1\" class=\"dataframe\">\n",
              "  <thead>\n",
              "    <tr style=\"text-align: right;\">\n",
              "      <th></th>\n",
              "      <th>Timestamp</th>\n",
              "      <th>Peran</th>\n",
              "      <th>Umur</th>\n",
              "      <th>Minat</th>\n",
              "      <th>Minat1</th>\n",
              "      <th>Minat2</th>\n",
              "      <th>Keahlian</th>\n",
              "      <th>Keahlian1</th>\n",
              "      <th>Aktivitas</th>\n",
              "    </tr>\n",
              "  </thead>\n",
              "  <tbody>\n",
              "    <tr>\n",
              "      <th>0</th>\n",
              "      <td>21/05/2022 12:39:46</td>\n",
              "      <td>Anak</td>\n",
              "      <td>21-55</td>\n",
              "      <td>Alam</td>\n",
              "      <td>Hiburan</td>\n",
              "      <td>Animasi</td>\n",
              "      <td>Masak</td>\n",
              "      <td>Manajemen</td>\n",
              "      <td>Membersihkan Rumah</td>\n",
              "    </tr>\n",
              "    <tr>\n",
              "      <th>1</th>\n",
              "      <td>21/05/2022 12:44:19</td>\n",
              "      <td>Ayah</td>\n",
              "      <td>21-55</td>\n",
              "      <td>Makanan</td>\n",
              "      <td>Olahraga</td>\n",
              "      <td>Binatang</td>\n",
              "      <td>Swakarya/DIY</td>\n",
              "      <td>Berkebun</td>\n",
              "      <td>Membersihkan Rumah</td>\n",
              "    </tr>\n",
              "    <tr>\n",
              "      <th>2</th>\n",
              "      <td>21/05/2022 12:46:16</td>\n",
              "      <td>Anak</td>\n",
              "      <td>15&lt;</td>\n",
              "      <td>Makanan</td>\n",
              "      <td>Animasi</td>\n",
              "      <td>Binatang</td>\n",
              "      <td>Swakarya/DIY</td>\n",
              "      <td>Sosialisasi</td>\n",
              "      <td>Belanja Kebutuhan</td>\n",
              "    </tr>\n",
              "    <tr>\n",
              "      <th>3</th>\n",
              "      <td>21/05/2022 12:49:24</td>\n",
              "      <td>Ibu</td>\n",
              "      <td>21-55</td>\n",
              "      <td>Makanan</td>\n",
              "      <td>Olahraga</td>\n",
              "      <td>Hiburan</td>\n",
              "      <td>Masak</td>\n",
              "      <td>Sosialisasi</td>\n",
              "      <td>Memasak</td>\n",
              "    </tr>\n",
              "    <tr>\n",
              "      <th>4</th>\n",
              "      <td>21/05/2022 13:03:39</td>\n",
              "      <td>Anak</td>\n",
              "      <td>15-20</td>\n",
              "      <td>Makanan</td>\n",
              "      <td>Hiburan</td>\n",
              "      <td>Keuangan</td>\n",
              "      <td>Masak</td>\n",
              "      <td>NaN</td>\n",
              "      <td>Membersihkan Rumah</td>\n",
              "    </tr>\n",
              "    <tr>\n",
              "      <th>...</th>\n",
              "      <td>...</td>\n",
              "      <td>...</td>\n",
              "      <td>...</td>\n",
              "      <td>...</td>\n",
              "      <td>...</td>\n",
              "      <td>...</td>\n",
              "      <td>...</td>\n",
              "      <td>...</td>\n",
              "      <td>...</td>\n",
              "    </tr>\n",
              "    <tr>\n",
              "      <th>282</th>\n",
              "      <td>25/05/2022 7:31:20</td>\n",
              "      <td>Anak</td>\n",
              "      <td>15&lt;</td>\n",
              "      <td>Olahraga</td>\n",
              "      <td>Alam</td>\n",
              "      <td>Binatang</td>\n",
              "      <td>Berkebun</td>\n",
              "      <td>NaN</td>\n",
              "      <td>Mencuci Piring</td>\n",
              "    </tr>\n",
              "    <tr>\n",
              "      <th>283</th>\n",
              "      <td>25/05/2022 19:23:51</td>\n",
              "      <td>Anak</td>\n",
              "      <td>21-55</td>\n",
              "      <td>Makanan</td>\n",
              "      <td>Hiburan</td>\n",
              "      <td>Edukasi</td>\n",
              "      <td>Sosialisasi</td>\n",
              "      <td>NaN</td>\n",
              "      <td>Membersihkan Rumah</td>\n",
              "    </tr>\n",
              "    <tr>\n",
              "      <th>284</th>\n",
              "      <td>25/05/2022 19:28:45</td>\n",
              "      <td>Ibu</td>\n",
              "      <td>21-55</td>\n",
              "      <td>Makanan</td>\n",
              "      <td>Hiburan</td>\n",
              "      <td>Keuangan</td>\n",
              "      <td>Masak</td>\n",
              "      <td>Berkebun</td>\n",
              "      <td>Memasak</td>\n",
              "    </tr>\n",
              "    <tr>\n",
              "      <th>285</th>\n",
              "      <td>25/05/2022 19:29:51</td>\n",
              "      <td>Ayah</td>\n",
              "      <td>21-55</td>\n",
              "      <td>Teknologi</td>\n",
              "      <td>Hiburan</td>\n",
              "      <td>Edukasi</td>\n",
              "      <td>Otomotif</td>\n",
              "      <td>Kelistrikan</td>\n",
              "      <td>Memperbaiki Rumah/Kelistrikan/Perabotan</td>\n",
              "    </tr>\n",
              "    <tr>\n",
              "      <th>286</th>\n",
              "      <td>26/05/2022 17:43:45</td>\n",
              "      <td>Anak</td>\n",
              "      <td>15&lt;</td>\n",
              "      <td>Makanan</td>\n",
              "      <td>Teknologi</td>\n",
              "      <td>Hiburan</td>\n",
              "      <td>Masak</td>\n",
              "      <td>Manajemen</td>\n",
              "      <td>Memasak</td>\n",
              "    </tr>\n",
              "  </tbody>\n",
              "</table>\n",
              "<p>287 rows × 9 columns</p>\n",
              "</div>"
            ],
            "text/plain": [
              "               Timestamp Peran   Umur      Minat     Minat1    Minat2  \\\n",
              "0    21/05/2022 12:39:46  Anak  21-55       Alam    Hiburan   Animasi   \n",
              "1    21/05/2022 12:44:19  Ayah  21-55    Makanan   Olahraga  Binatang   \n",
              "2    21/05/2022 12:46:16  Anak    15<    Makanan    Animasi  Binatang   \n",
              "3    21/05/2022 12:49:24   Ibu  21-55    Makanan   Olahraga   Hiburan   \n",
              "4    21/05/2022 13:03:39  Anak  15-20    Makanan    Hiburan  Keuangan   \n",
              "..                   ...   ...    ...        ...        ...       ...   \n",
              "282   25/05/2022 7:31:20  Anak    15<   Olahraga       Alam  Binatang   \n",
              "283  25/05/2022 19:23:51  Anak  21-55    Makanan    Hiburan   Edukasi   \n",
              "284  25/05/2022 19:28:45   Ibu  21-55    Makanan    Hiburan  Keuangan   \n",
              "285  25/05/2022 19:29:51  Ayah  21-55  Teknologi    Hiburan   Edukasi   \n",
              "286  26/05/2022 17:43:45  Anak    15<    Makanan  Teknologi   Hiburan   \n",
              "\n",
              "         Keahlian    Keahlian1                                Aktivitas  \n",
              "0           Masak    Manajemen                       Membersihkan Rumah  \n",
              "1    Swakarya/DIY     Berkebun                       Membersihkan Rumah  \n",
              "2    Swakarya/DIY  Sosialisasi                        Belanja Kebutuhan  \n",
              "3           Masak  Sosialisasi                                  Memasak  \n",
              "4           Masak          NaN                       Membersihkan Rumah  \n",
              "..            ...          ...                                      ...  \n",
              "282      Berkebun          NaN                           Mencuci Piring  \n",
              "283   Sosialisasi          NaN                       Membersihkan Rumah  \n",
              "284         Masak     Berkebun                                  Memasak  \n",
              "285      Otomotif  Kelistrikan  Memperbaiki Rumah/Kelistrikan/Perabotan  \n",
              "286         Masak    Manajemen                                  Memasak  \n",
              "\n",
              "[287 rows x 9 columns]"
            ]
          },
          "execution_count": 192,
          "metadata": {},
          "output_type": "execute_result"
        }
      ],
      "source": [
        "data = pd.read_csv('cemara_dataset.csv')\n",
        "data"
      ]
    },
    {
      "cell_type": "markdown",
      "metadata": {
        "id": "HwoX_EwLcaWT"
      },
      "source": [
        "# Preprocessing Data"
      ]
    },
    {
      "cell_type": "code",
      "execution_count": 193,
      "metadata": {
        "id": "bB983rDteGDm"
      },
      "outputs": [],
      "source": [
        "data = data.drop(['Timestamp'], axis=1)"
      ]
    },
    {
      "cell_type": "code",
      "execution_count": 194,
      "metadata": {
        "colab": {
          "base_uri": "https://localhost:8080/"
        },
        "id": "VR4atq7afOMX",
        "outputId": "a89ed1f9-1ce5-454d-a7f6-1cb4f796345b"
      },
      "outputs": [
        {
          "name": "stdout",
          "output_type": "stream",
          "text": [
            "<class 'pandas.core.frame.DataFrame'>\n",
            "RangeIndex: 287 entries, 0 to 286\n",
            "Data columns (total 8 columns):\n",
            " #   Column     Non-Null Count  Dtype \n",
            "---  ------     --------------  ----- \n",
            " 0   Peran      287 non-null    object\n",
            " 1   Umur       287 non-null    object\n",
            " 2   Minat      287 non-null    object\n",
            " 3   Minat1     287 non-null    object\n",
            " 4   Minat2     287 non-null    object\n",
            " 5   Keahlian   287 non-null    object\n",
            " 6   Keahlian1  222 non-null    object\n",
            " 7   Aktivitas  287 non-null    object\n",
            "dtypes: object(8)\n",
            "memory usage: 18.1+ KB\n"
          ]
        }
      ],
      "source": [
        "data.info()"
      ]
    },
    {
      "cell_type": "code",
      "execution_count": 195,
      "metadata": {
        "colab": {
          "base_uri": "https://localhost:8080/"
        },
        "id": "C9xIFmVVfqlE",
        "outputId": "84fb3a1b-dc45-4d16-a53b-bdd34399a076"
      },
      "outputs": [
        {
          "data": {
            "text/plain": [
              "Peran         0\n",
              "Umur          0\n",
              "Minat         0\n",
              "Minat1        0\n",
              "Minat2        0\n",
              "Keahlian      0\n",
              "Keahlian1    65\n",
              "Aktivitas     0\n",
              "dtype: int64"
            ]
          },
          "execution_count": 195,
          "metadata": {},
          "output_type": "execute_result"
        }
      ],
      "source": [
        "data.isnull().sum()"
      ]
    },
    {
      "cell_type": "code",
      "execution_count": 196,
      "metadata": {
        "colab": {
          "base_uri": "https://localhost:8080/",
          "height": 206
        },
        "id": "xOR5E8wfQM9e",
        "outputId": "504b2191-4e8a-439c-c874-33211857f340"
      },
      "outputs": [
        {
          "data": {
            "text/html": [
              "<div>\n",
              "<style scoped>\n",
              "    .dataframe tbody tr th:only-of-type {\n",
              "        vertical-align: middle;\n",
              "    }\n",
              "\n",
              "    .dataframe tbody tr th {\n",
              "        vertical-align: top;\n",
              "    }\n",
              "\n",
              "    .dataframe thead th {\n",
              "        text-align: right;\n",
              "    }\n",
              "</style>\n",
              "<table border=\"1\" class=\"dataframe\">\n",
              "  <thead>\n",
              "    <tr style=\"text-align: right;\">\n",
              "      <th></th>\n",
              "      <th>Peran</th>\n",
              "      <th>Umur</th>\n",
              "      <th>Minat</th>\n",
              "      <th>Minat1</th>\n",
              "      <th>Minat2</th>\n",
              "      <th>Keahlian</th>\n",
              "      <th>Keahlian1</th>\n",
              "      <th>Aktivitas</th>\n",
              "    </tr>\n",
              "  </thead>\n",
              "  <tbody>\n",
              "    <tr>\n",
              "      <th>0</th>\n",
              "      <td>Anak</td>\n",
              "      <td>21-55</td>\n",
              "      <td>Alam</td>\n",
              "      <td>Hiburan</td>\n",
              "      <td>Animasi</td>\n",
              "      <td>Masak</td>\n",
              "      <td>Manajemen</td>\n",
              "      <td>Membersihkan Rumah</td>\n",
              "    </tr>\n",
              "    <tr>\n",
              "      <th>1</th>\n",
              "      <td>Ayah</td>\n",
              "      <td>21-55</td>\n",
              "      <td>Makanan</td>\n",
              "      <td>Olahraga</td>\n",
              "      <td>Binatang</td>\n",
              "      <td>Swakarya/DIY</td>\n",
              "      <td>Berkebun</td>\n",
              "      <td>Membersihkan Rumah</td>\n",
              "    </tr>\n",
              "    <tr>\n",
              "      <th>2</th>\n",
              "      <td>Anak</td>\n",
              "      <td>15&lt;</td>\n",
              "      <td>Makanan</td>\n",
              "      <td>Animasi</td>\n",
              "      <td>Binatang</td>\n",
              "      <td>Swakarya/DIY</td>\n",
              "      <td>Sosialisasi</td>\n",
              "      <td>Belanja Kebutuhan</td>\n",
              "    </tr>\n",
              "    <tr>\n",
              "      <th>3</th>\n",
              "      <td>Ibu</td>\n",
              "      <td>21-55</td>\n",
              "      <td>Makanan</td>\n",
              "      <td>Olahraga</td>\n",
              "      <td>Hiburan</td>\n",
              "      <td>Masak</td>\n",
              "      <td>Sosialisasi</td>\n",
              "      <td>Memasak</td>\n",
              "    </tr>\n",
              "    <tr>\n",
              "      <th>4</th>\n",
              "      <td>Anak</td>\n",
              "      <td>15-20</td>\n",
              "      <td>Makanan</td>\n",
              "      <td>Hiburan</td>\n",
              "      <td>Keuangan</td>\n",
              "      <td>Masak</td>\n",
              "      <td>Berkebun</td>\n",
              "      <td>Membersihkan Rumah</td>\n",
              "    </tr>\n",
              "  </tbody>\n",
              "</table>\n",
              "</div>"
            ],
            "text/plain": [
              "  Peran   Umur    Minat    Minat1    Minat2      Keahlian    Keahlian1  \\\n",
              "0  Anak  21-55     Alam   Hiburan   Animasi         Masak    Manajemen   \n",
              "1  Ayah  21-55  Makanan  Olahraga  Binatang  Swakarya/DIY     Berkebun   \n",
              "2  Anak    15<  Makanan   Animasi  Binatang  Swakarya/DIY  Sosialisasi   \n",
              "3   Ibu  21-55  Makanan  Olahraga   Hiburan         Masak  Sosialisasi   \n",
              "4  Anak  15-20  Makanan   Hiburan  Keuangan         Masak     Berkebun   \n",
              "\n",
              "            Aktivitas  \n",
              "0  Membersihkan Rumah  \n",
              "1  Membersihkan Rumah  \n",
              "2   Belanja Kebutuhan  \n",
              "3             Memasak  \n",
              "4  Membersihkan Rumah  "
            ]
          },
          "execution_count": 196,
          "metadata": {},
          "output_type": "execute_result"
        }
      ],
      "source": [
        "#Ganti data yang hilang dengan data yang paling sering\n",
        "data = data.fillna(data.mode().iloc[0])\n",
        "data.head()"
      ]
    },
    {
      "cell_type": "code",
      "execution_count": 197,
      "metadata": {
        "colab": {
          "base_uri": "https://localhost:8080/"
        },
        "id": "cubkEdtKQ-K0",
        "outputId": "b13573b3-3c79-4ba8-d19d-312baa714385"
      },
      "outputs": [
        {
          "data": {
            "text/plain": [
              "Peran        0\n",
              "Umur         0\n",
              "Minat        0\n",
              "Minat1       0\n",
              "Minat2       0\n",
              "Keahlian     0\n",
              "Keahlian1    0\n",
              "Aktivitas    0\n",
              "dtype: int64"
            ]
          },
          "execution_count": 197,
          "metadata": {},
          "output_type": "execute_result"
        }
      ],
      "source": [
        "data.isnull().sum()"
      ]
    },
    {
      "cell_type": "markdown",
      "metadata": {
        "id": "DwFgidb-cDN6"
      },
      "source": [
        "# Exploratory Data Analysis"
      ]
    },
    {
      "cell_type": "code",
      "execution_count": 198,
      "metadata": {
        "colab": {
          "base_uri": "https://localhost:8080/"
        },
        "id": "MqfYWOpoVeVf",
        "outputId": "538a2f4f-e8d6-4030-aee4-0ec66980d2b7"
      },
      "outputs": [
        {
          "data": {
            "text/plain": [
              "Peran        3\n",
              "Umur         4\n",
              "Minat        8\n",
              "Minat1       9\n",
              "Minat2       9\n",
              "Keahlian     7\n",
              "Keahlian1    6\n",
              "Aktivitas    8\n",
              "dtype: int64"
            ]
          },
          "execution_count": 198,
          "metadata": {},
          "output_type": "execute_result"
        }
      ],
      "source": [
        "data.nunique()"
      ]
    },
    {
      "cell_type": "code",
      "execution_count": 199,
      "metadata": {
        "colab": {
          "base_uri": "https://localhost:8080/",
          "height": 367
        },
        "id": "vt-ON636VsbT",
        "outputId": "ef0d9535-94b7-42a9-efac-a18a94685d19"
      },
      "outputs": [
        {
          "name": "stdout",
          "output_type": "stream",
          "text": [
            "Anak    105\n",
            "Ibu      98\n",
            "Ayah     84\n",
            "Name: Peran, dtype: int64\n"
          ]
        },
        {
          "data": {
            "text/plain": [
              "<AxesSubplot:>"
            ]
          },
          "execution_count": 199,
          "metadata": {},
          "output_type": "execute_result"
        },
        {
          "data": {
            "image/png": "[encoded data removed]",
            "text/plain": [
              "<Figure size 432x288 with 1 Axes>"
            ]
          },
          "metadata": {
            "needs_background": "light"
          },
          "output_type": "display_data"
        }
      ],
      "source": [
        "cat_value = data['Peran'].value_counts()\n",
        "print(cat_value)\n",
        "cat_value.plot(kind='bar')"
      ]
    },
    {
      "cell_type": "code",
      "execution_count": 200,
      "metadata": {
        "colab": {
          "base_uri": "https://localhost:8080/",
          "height": 388
        },
        "id": "9Dbkf1g-VwrJ",
        "outputId": "eeb75b2f-743c-4679-f9d6-9e1d6b1a033c"
      },
      "outputs": [
        {
          "name": "stdout",
          "output_type": "stream",
          "text": [
            "21-55    184\n",
            "15-20     48\n",
            ">55       29\n",
            "15<       26\n",
            "Name: Umur, dtype: int64\n"
          ]
        },
        {
          "data": {
            "text/plain": [
              "<AxesSubplot:>"
            ]
          },
          "execution_count": 200,
          "metadata": {},
          "output_type": "execute_result"
        },
        {
          "data": {
            "image/png": "[encoded data removed]",
            "text/plain": [
              "<Figure size 432x288 with 1 Axes>"
            ]
          },
          "metadata": {
            "needs_background": "light"
          },
          "output_type": "display_data"
        }
      ],
      "source": [
        "cat_value = data['Umur'].value_counts()\n",
        "print(cat_value)\n",
        "cat_value.plot(kind='bar')"
      ]
    },
    {
      "cell_type": "code",
      "execution_count": 201,
      "metadata": {
        "colab": {
          "base_uri": "https://localhost:8080/",
          "height": 479
        },
        "id": "4mo1E9HMVxLe",
        "outputId": "36fe37b1-02d9-4802-a79b-3629595bf30e"
      },
      "outputs": [
        {
          "name": "stdout",
          "output_type": "stream",
          "text": [
            "Makanan      149\n",
            "Olahraga      59\n",
            "Alam          28\n",
            "Hiburan       23\n",
            "Teknologi     20\n",
            "Edukasi        6\n",
            "Keuangan       1\n",
            "Binatang       1\n",
            "Name: Minat, dtype: int64\n"
          ]
        },
        {
          "data": {
            "text/plain": [
              "<AxesSubplot:>"
            ]
          },
          "execution_count": 201,
          "metadata": {},
          "output_type": "execute_result"
        },
        {
          "data": {
            "image/png": "[encoded data removed]",
            "text/plain": [
              "<Figure size 432x288 with 1 Axes>"
            ]
          },
          "metadata": {
            "needs_background": "light"
          },
          "output_type": "display_data"
        }
      ],
      "source": [
        "cat_value = data['Minat'].value_counts()\n",
        "print(cat_value)\n",
        "cat_value.plot(kind='bar')"
      ]
    },
    {
      "cell_type": "code",
      "execution_count": 202,
      "metadata": {
        "colab": {
          "base_uri": "https://localhost:8080/",
          "height": 498
        },
        "id": "iz3g1YPeVx0u",
        "outputId": "0817ca00-e7d6-4055-ea75-a77b6820a26a"
      },
      "outputs": [
        {
          "name": "stdout",
          "output_type": "stream",
          "text": [
            "Hiburan      96\n",
            "Alam         41\n",
            "Edukasi      40\n",
            "Olahraga     36\n",
            "Keuangan     29\n",
            "Teknologi    29\n",
            "Animasi       6\n",
            "Binatang      6\n",
            "Literatur     4\n",
            "Name: Minat1, dtype: int64\n"
          ]
        },
        {
          "data": {
            "text/plain": [
              "<AxesSubplot:>"
            ]
          },
          "execution_count": 202,
          "metadata": {},
          "output_type": "execute_result"
        },
        {
          "data": {
            "image/png": "[encoded data removed]",
            "text/plain": [
              "<Figure size 432x288 with 1 Axes>"
            ]
          },
          "metadata": {
            "needs_background": "light"
          },
          "output_type": "display_data"
        }
      ],
      "source": [
        "cat_value = data['Minat1'].value_counts()\n",
        "print(cat_value)\n",
        "cat_value.plot(kind='bar')"
      ]
    },
    {
      "cell_type": "code",
      "execution_count": 203,
      "metadata": {
        "colab": {
          "base_uri": "https://localhost:8080/",
          "height": 499
        },
        "id": "15R-uuxlVxr5",
        "outputId": "994ac87c-935e-4934-d447-95b7acef3bf3"
      },
      "outputs": [
        {
          "name": "stdout",
          "output_type": "stream",
          "text": [
            "Kesehatan    85\n",
            "Keuangan     55\n",
            "Hiburan      43\n",
            "Edukasi      27\n",
            "Binatang     25\n",
            "Animasi      23\n",
            "Teknologi    13\n",
            "Literatur    13\n",
            "Alam          3\n",
            "Name: Minat2, dtype: int64\n"
          ]
        },
        {
          "data": {
            "text/plain": [
              "<AxesSubplot:>"
            ]
          },
          "execution_count": 203,
          "metadata": {},
          "output_type": "execute_result"
        },
        {
          "data": {
            "image/png": "[encoded data removed]",
            "text/plain": [
              "<Figure size 432x288 with 1 Axes>"
            ]
          },
          "metadata": {
            "needs_background": "light"
          },
          "output_type": "display_data"
        }
      ],
      "source": [
        "cat_value = data['Minat2'].value_counts()\n",
        "print(cat_value)\n",
        "cat_value.plot(kind='bar')"
      ]
    },
    {
      "cell_type": "code",
      "execution_count": 204,
      "metadata": {
        "colab": {
          "base_uri": "https://localhost:8080/",
          "height": 480
        },
        "id": "CxdSY53rVxip",
        "outputId": "7a9d8f3d-1a9b-4d79-f5f4-cbb202e2da1d"
      },
      "outputs": [
        {
          "name": "stdout",
          "output_type": "stream",
          "text": [
            "Masak           142\n",
            "Sosialisasi      43\n",
            "Swakarya/DIY     39\n",
            "Otomotif         21\n",
            "Manajemen        19\n",
            "Berkebun         15\n",
            "Kelistrikan       8\n",
            "Name: Keahlian, dtype: int64\n"
          ]
        },
        {
          "data": {
            "text/plain": [
              "<AxesSubplot:>"
            ]
          },
          "execution_count": 204,
          "metadata": {},
          "output_type": "execute_result"
        },
        {
          "data": {
            "image/png": "[encoded data removed]",
            "text/plain": [
              "<Figure size 432x288 with 1 Axes>"
            ]
          },
          "metadata": {
            "needs_background": "light"
          },
          "output_type": "display_data"
        }
      ],
      "source": [
        "cat_value = data['Keahlian'].value_counts()\n",
        "print(cat_value)\n",
        "cat_value.plot(kind='bar')"
      ]
    },
    {
      "cell_type": "code",
      "execution_count": 205,
      "metadata": {
        "colab": {
          "base_uri": "https://localhost:8080/",
          "height": 463
        },
        "id": "QMcmj6yZV2i7",
        "outputId": "f6aa3bac-55b9-4a33-8858-580eca27fcd6"
      },
      "outputs": [
        {
          "name": "stdout",
          "output_type": "stream",
          "text": [
            "Berkebun        124\n",
            "Manajemen        52\n",
            "Sosialisasi      47\n",
            "Swakarya/DIY     26\n",
            "Otomotif         20\n",
            "Kelistrikan      18\n",
            "Name: Keahlian1, dtype: int64\n"
          ]
        },
        {
          "data": {
            "text/plain": [
              "<AxesSubplot:>"
            ]
          },
          "execution_count": 205,
          "metadata": {},
          "output_type": "execute_result"
        },
        {
          "data": {
            "image/png": "[encoded data removed]",
            "text/plain": [
              "<Figure size 432x288 with 1 Axes>"
            ]
          },
          "metadata": {
            "needs_background": "light"
          },
          "output_type": "display_data"
        }
      ],
      "source": [
        "cat_value = data['Keahlian1'].value_counts()\n",
        "print(cat_value)\n",
        "cat_value.plot(kind='bar')"
      ]
    },
    {
      "cell_type": "code",
      "execution_count": 215,
      "metadata": {},
      "outputs": [
        {
          "name": "stdout",
          "output_type": "stream",
          "text": [
            "Membersihkan Rumah                         65\n",
            "Memasak                                    64\n",
            "Memperbaiki Rumah/Kelistrikan/Perabotan    47\n",
            "Mencuci Piring                             33\n",
            "Belanja Kebutuhan                          22\n",
            "Membayar Tagihan                           22\n",
            "Mencuci Baju                               20\n",
            "Mengasuh Anak                              14\n",
            "Name: Aktivitas, dtype: int64\n"
          ]
        },
        {
          "data": {
            "text/plain": [
              "<AxesSubplot:>"
            ]
          },
          "execution_count": 215,
          "metadata": {},
          "output_type": "execute_result"
        },
        {
          "data": {
            "image/png": "[encoded data removed]",
            "text/plain": [
              "<Figure size 432x288 with 1 Axes>"
            ]
          },
          "metadata": {
            "needs_background": "light"
          },
          "output_type": "display_data"
        }
      ],
      "source": [
        "cat_value = data['Aktivitas'].value_counts()\n",
        "print(cat_value)\n",
        "cat_value.plot(kind='bar')"
      ]
    },
    {
      "cell_type": "code",
      "execution_count": 206,
      "metadata": {
        "id": "uUf_hLG0ae-l"
      },
      "outputs": [],
      "source": [
        "x = data.drop(['Aktivitas'], axis=1)\n",
        "y = data['Aktivitas']\n",
        "\n",
        "le = LabelEncoder()\n",
        "x = pd.get_dummies(x)\n",
        "y = le.fit_transform(y)"
      ]
    },
    {
      "cell_type": "code",
      "execution_count": 207,
      "metadata": {
        "id": "JIMnerM-GHww"
      },
      "outputs": [],
      "source": [
        "from sklearn.model_selection import train_test_split\n",
        "\n",
        "x_train, x_test, y_train, y_test = train_test_split(x, y, test_size=0.1, random_state=42)"
      ]
    },
    {
      "cell_type": "markdown",
      "metadata": {
        "id": "XRIbvZ0Bb_PO"
      },
      "source": [
        "# Create Model"
      ]
    },
    {
      "cell_type": "code",
      "execution_count": 208,
      "metadata": {
        "id": "8sEpgBmEb91C"
      },
      "outputs": [],
      "source": [
        "input = keras.Input(shape=(46,))\n",
        "dense1 = keras.layers.Dense(46, activation='relu')(input)\n",
        "dense2 = keras.layers.Dense(100, activation='relu')(dense1)\n",
        "dense3 = keras.layers.Dense(100, activation='relu')(dense2)\n",
        "dense4 = keras.layers.Dense(200, activation='relu')(dense3)\n",
        "output = keras.layers.Dense(1)(dense4)\n",
        "\n",
        "model = keras.Model(inputs=input, outputs=output)\n",
        "model.compile(optimizer='adam', loss='mse', metrics=['mae'])"
      ]
    },
    {
      "cell_type": "code",
      "execution_count": 209,
      "metadata": {
        "colab": {
          "base_uri": "https://localhost:8080/"
        },
        "id": "hprW68Rfckvp",
        "outputId": "fc8329f4-12f2-4dca-9b81-a3712fec26d1"
      },
      "outputs": [
        {
          "name": "stdout",
          "output_type": "stream",
          "text": [
            "Model: \"model_9\"\n",
            "_________________________________________________________________\n",
            " Layer (type)                Output Shape              Param #   \n",
            "=================================================================\n",
            " input_10 (InputLayer)       [(None, 46)]              0         \n",
            "                                                                 \n",
            " dense_45 (Dense)            (None, 46)                2162      \n",
            "                                                                 \n",
            " dense_46 (Dense)            (None, 100)               4700      \n",
            "                                                                 \n",
            " dense_47 (Dense)            (None, 100)               10100     \n",
            "                                                                 \n",
            " dense_48 (Dense)            (None, 200)               20200     \n",
            "                                                                 \n",
            " dense_49 (Dense)            (None, 1)                 201       \n",
            "                                                                 \n",
            "=================================================================\n",
            "Total params: 37,363\n",
            "Trainable params: 37,363\n",
            "Non-trainable params: 0\n",
            "_________________________________________________________________\n"
          ]
        }
      ],
      "source": [
        "model.summary()"
      ]
    },
    {
      "cell_type": "markdown",
      "metadata": {
        "id": "pfW-S_xZcnP_"
      },
      "source": [
        "# Train Model"
      ]
    },
    {
      "cell_type": "code",
      "execution_count": 210,
      "metadata": {
        "colab": {
          "base_uri": "https://localhost:8080/"
        },
        "id": "fM0xWHbVclU2",
        "outputId": "8b3ee536-ce8a-446b-8ad5-dce2abba336b"
      },
      "outputs": [
        {
          "data": {
            "text/html": [
              "<div>\n",
              "<style scoped>\n",
              "    .dataframe tbody tr th:only-of-type {\n",
              "        vertical-align: middle;\n",
              "    }\n",
              "\n",
              "    .dataframe tbody tr th {\n",
              "        vertical-align: top;\n",
              "    }\n",
              "\n",
              "    .dataframe thead th {\n",
              "        text-align: right;\n",
              "    }\n",
              "</style>\n",
              "<table border=\"1\" class=\"dataframe\">\n",
              "  <thead>\n",
              "    <tr style=\"text-align: right;\">\n",
              "      <th></th>\n",
              "      <th>loss</th>\n",
              "      <th>mae</th>\n",
              "    </tr>\n",
              "  </thead>\n",
              "  <tbody>\n",
              "    <tr>\n",
              "      <th>95</th>\n",
              "      <td>0.584825</td>\n",
              "      <td>0.440628</td>\n",
              "    </tr>\n",
              "    <tr>\n",
              "      <th>96</th>\n",
              "      <td>0.493204</td>\n",
              "      <td>0.356778</td>\n",
              "    </tr>\n",
              "    <tr>\n",
              "      <th>97</th>\n",
              "      <td>0.456505</td>\n",
              "      <td>0.326475</td>\n",
              "    </tr>\n",
              "    <tr>\n",
              "      <th>98</th>\n",
              "      <td>0.462393</td>\n",
              "      <td>0.339947</td>\n",
              "    </tr>\n",
              "    <tr>\n",
              "      <th>99</th>\n",
              "      <td>0.463610</td>\n",
              "      <td>0.328758</td>\n",
              "    </tr>\n",
              "  </tbody>\n",
              "</table>\n",
              "</div>"
            ],
            "text/plain": [
              "        loss       mae\n",
              "95  0.584825  0.440628\n",
              "96  0.493204  0.356778\n",
              "97  0.456505  0.326475\n",
              "98  0.462393  0.339947\n",
              "99  0.463610  0.328758"
            ]
          },
          "execution_count": 210,
          "metadata": {},
          "output_type": "execute_result"
        }
      ],
      "source": [
        "history = model.fit(x_train, y_train, epochs=100, verbose=0)\n",
        "hist = pd.DataFrame(history.history)\n",
        "hist.tail()"
      ]
    },
    {
      "cell_type": "markdown",
      "metadata": {
        "id": "euV_uXIQc324"
      },
      "source": [
        "# Evaluate Model"
      ]
    },
    {
      "cell_type": "code",
      "execution_count": 211,
      "metadata": {
        "colab": {
          "base_uri": "https://localhost:8080/",
          "height": 296
        },
        "id": "MsWephZWc1cU",
        "outputId": "f7acad25-81ae-40dd-ff3f-f2fd777d3f51"
      },
      "outputs": [
        {
          "data": {
            "text/plain": [
              "Text(0, 0.5, 'Training Error')"
            ]
          },
          "execution_count": 211,
          "metadata": {},
          "output_type": "execute_result"
        },
        {
          "data": {
            "image/png": "[encoded data removed]",
            "text/plain": [
              "<Figure size 432x288 with 1 Axes>"
            ]
          },
          "metadata": {
            "needs_background": "light"
          },
          "output_type": "display_data"
        }
      ],
      "source": [
        "plt.plot(history.history['loss'])\n",
        "plt.plot(history.history['mae'])\n",
        "plt.xlabel(\"Epochs\")\n",
        "plt.ylabel(\"Training Error\")"
      ]
    },
    {
      "cell_type": "code",
      "execution_count": 212,
      "metadata": {
        "colab": {
          "base_uri": "https://localhost:8080/"
        },
        "id": "-pLQ2-jscAZQ",
        "outputId": "23bfdbcb-1a1c-4288-ac9d-16320d3a52f5"
      },
      "outputs": [
        {
          "name": "stdout",
          "output_type": "stream",
          "text": [
            "WARNING:tensorflow:5 out of the last 5 calls to <function Model.make_test_function.<locals>.test_function at 0x00000222CF0C2B90> triggered tf.function retracing. Tracing is expensive and the excessive number of tracings could be due to (1) creating @tf.function repeatedly in a loop, (2) passing tensors with different shapes, (3) passing Python objects instead of tensors. For (1), please define your @tf.function outside of the loop. For (2), @tf.function has reduce_retracing=True option that can avoid unnecessary retracing. For (3), please refer to https://www.tensorflow.org/guide/function#controlling_retracing and https://www.tensorflow.org/api_docs/python/tf/function for  more details.\n"
          ]
        },
        {
          "name": "stderr",
          "output_type": "stream",
          "text": [
            "WARNING:tensorflow:5 out of the last 5 calls to <function Model.make_test_function.<locals>.test_function at 0x00000222CF0C2B90> triggered tf.function retracing. Tracing is expensive and the excessive number of tracings could be due to (1) creating @tf.function repeatedly in a loop, (2) passing tensors with different shapes, (3) passing Python objects instead of tensors. For (1), please define your @tf.function outside of the loop. For (2), @tf.function has reduce_retracing=True option that can avoid unnecessary retracing. For (3), please refer to https://www.tensorflow.org/guide/function#controlling_retracing and https://www.tensorflow.org/api_docs/python/tf/function for  more details.\n"
          ]
        },
        {
          "name": "stdout",
          "output_type": "stream",
          "text": [
            "1/1 [==============================] - 0s 137ms/step - loss: 5.1952 - mae: 1.4955\n"
          ]
        },
        {
          "data": {
            "text/plain": [
              "[5.195150852203369, 1.495458722114563]"
            ]
          },
          "execution_count": 212,
          "metadata": {},
          "output_type": "execute_result"
        }
      ],
      "source": [
        "model.evaluate(x_test, y_test)"
      ]
    },
    {
      "cell_type": "markdown",
      "metadata": {
        "id": "KcdkdxrpAQi1"
      },
      "source": [
        "# Model Save"
      ]
    },
    {
      "cell_type": "code",
      "execution_count": 213,
      "metadata": {
        "id": "ZtFydO5pkmno"
      },
      "outputs": [],
      "source": [
        "model.save('haepe.h5')"
      ]
    },
    {
      "cell_type": "markdown",
      "metadata": {
        "id": "ONRpXMyHE1Q_"
      },
      "source": [
        "# TF Lite Convert"
      ]
    },
    {
      "cell_type": "code",
      "execution_count": 214,
      "metadata": {
        "id": "VCf0fWfsE02p"
      },
      "outputs": [
        {
          "name": "stdout",
          "output_type": "stream",
          "text": [
            "INFO:tensorflow:Assets written to: C:\\Users\\ZAKKIC~1\\AppData\\Local\\Temp\\tmp_up9ujkm\\assets\n"
          ]
        },
        {
          "name": "stderr",
          "output_type": "stream",
          "text": [
            "INFO:tensorflow:Assets written to: C:\\Users\\ZAKKIC~1\\AppData\\Local\\Temp\\tmp_up9ujkm\\assets\n"
          ]
        },
        {
          "ename": "PermissionError",
          "evalue": "[Errno 13] Permission denied: '\\\\haepe.tflite'",
          "output_type": "error",
          "traceback": [
            "\u001b[1;31m---------------------------------------------------------------------------\u001b[0m",
            "\u001b[1;31mPermissionError\u001b[0m                           Traceback (most recent call last)",
            "\u001b[1;32mc:\\laragon\\www\\haepe-recomendation\\haepe_recommendation_system.ipynb Cell 34'\u001b[0m in \u001b[0;36m<cell line: 6>\u001b[1;34m()\u001b[0m\n\u001b[0;32m      <a href='vscode-notebook-cell:/c%3A/laragon/www/haepe-recomendation/haepe_recommendation_system.ipynb#ch0000033?line=3'>4</a>\u001b[0m \u001b[39mimport\u001b[39;00m \u001b[39mpathlib\u001b[39;00m\n\u001b[0;32m      <a href='vscode-notebook-cell:/c%3A/laragon/www/haepe-recomendation/haepe_recommendation_system.ipynb#ch0000033?line=4'>5</a>\u001b[0m tflite_file \u001b[39m=\u001b[39m pathlib\u001b[39m.\u001b[39mPath(\u001b[39m'\u001b[39m\u001b[39m/haepe.tflite\u001b[39m\u001b[39m'\u001b[39m)\n\u001b[1;32m----> <a href='vscode-notebook-cell:/c%3A/laragon/www/haepe-recomendation/haepe_recommendation_system.ipynb#ch0000033?line=5'>6</a>\u001b[0m tflite_file\u001b[39m.\u001b[39;49mwrite_bytes(tflite_model)\n",
            "File \u001b[1;32mc:\\laragon\\bin\\python\\python-3.10\\lib\\pathlib.py:1141\u001b[0m, in \u001b[0;36mPath.write_bytes\u001b[1;34m(self, data)\u001b[0m\n\u001b[0;32m   1139\u001b[0m \u001b[39m# type-check for the buffer interface before truncating the file\u001b[39;00m\n\u001b[0;32m   1140\u001b[0m view \u001b[39m=\u001b[39m \u001b[39mmemoryview\u001b[39m(data)\n\u001b[1;32m-> 1141\u001b[0m \u001b[39mwith\u001b[39;00m \u001b[39mself\u001b[39;49m\u001b[39m.\u001b[39;49mopen(mode\u001b[39m=\u001b[39;49m\u001b[39m'\u001b[39;49m\u001b[39mwb\u001b[39;49m\u001b[39m'\u001b[39;49m) \u001b[39mas\u001b[39;00m f:\n\u001b[0;32m   1142\u001b[0m     \u001b[39mreturn\u001b[39;00m f\u001b[39m.\u001b[39mwrite(view)\n",
            "File \u001b[1;32mc:\\laragon\\bin\\python\\python-3.10\\lib\\pathlib.py:1117\u001b[0m, in \u001b[0;36mPath.open\u001b[1;34m(self, mode, buffering, encoding, errors, newline)\u001b[0m\n\u001b[0;32m   1115\u001b[0m \u001b[39mif\u001b[39;00m \u001b[39m\"\u001b[39m\u001b[39mb\u001b[39m\u001b[39m\"\u001b[39m \u001b[39mnot\u001b[39;00m \u001b[39min\u001b[39;00m mode:\n\u001b[0;32m   1116\u001b[0m     encoding \u001b[39m=\u001b[39m io\u001b[39m.\u001b[39mtext_encoding(encoding)\n\u001b[1;32m-> 1117\u001b[0m \u001b[39mreturn\u001b[39;00m \u001b[39mself\u001b[39;49m\u001b[39m.\u001b[39;49m_accessor\u001b[39m.\u001b[39;49mopen(\u001b[39mself\u001b[39;49m, mode, buffering, encoding, errors,\n\u001b[0;32m   1118\u001b[0m                            newline)\n",
            "\u001b[1;31mPermissionError\u001b[0m: [Errno 13] Permission denied: '\\\\haepe.tflite'"
          ]
        }
      ],
      "source": [
        "converter = tf.lite.TFLiteConverter.from_keras_model(model)\n",
        "tflite_model = converter.convert()\n",
        "\n",
        "import pathlib\n",
        "tflite_file = pathlib.Path('haepe.tflite')\n",
        "tflite_file.write_bytes(tflite_model)"
      ]
    }
  ],
  "metadata": {
    "colab": {
      "collapsed_sections": [],
      "include_colab_link": true,
      "name": "haepe-recommendation-system.ipynb",
      "provenance": []
    },
    "kernelspec": {
      "display_name": "Python 3.10.4 64-bit",
      "language": "python",
      "name": "python3"
    },
    "language_info": {
      "codemirror_mode": {
        "name": "ipython",
        "version": 3
      },
      "file_extension": ".py",
      "mimetype": "text/x-python",
      "name": "python",
      "nbconvert_exporter": "python",
      "pygments_lexer": "ipython3",
      "version": "3.10.4"
    },
    "vscode": {
      "interpreter": {
        "hash": "28729dde3b12b26835894d8476d44eb931e70742846a1bd2c46ee3e267788273"
      }
    }
  },
  "nbformat": 4,
  "nbformat_minor": 0
}
